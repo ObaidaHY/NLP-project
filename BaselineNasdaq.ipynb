{
  "cells": [
    {
      "cell_type": "markdown",
      "metadata": {
        "id": "-WFNnWzTNdmD"
      },
      "source": [
        "# Finalized Data Preprocessing and Model Creation"
      ]
    },
    {
      "cell_type": "code",
      "execution_count": 3,
      "metadata": {
        "vscode": {
          "languageId": "powershell"
        },
        "colab": {
          "base_uri": "https://localhost:8080/"
        },
        "id": "O4gkiXjGNdmH",
        "outputId": "b10ca3ab-e45d-4c98-d6ef-fcb5fe72a602"
      },
      "outputs": [
        {
          "output_type": "stream",
          "name": "stdout",
          "text": [
            "Requirement already satisfied: pandas in /usr/local/lib/python3.10/dist-packages (from -r requirements.txt (line 1)) (2.2.2)\n",
            "Requirement already satisfied: numpy in /usr/local/lib/python3.10/dist-packages (from -r requirements.txt (line 2)) (1.26.4)\n",
            "Requirement already satisfied: matplotlib in /usr/local/lib/python3.10/dist-packages (from -r requirements.txt (line 3)) (3.8.0)\n",
            "Requirement already satisfied: seaborn in /usr/local/lib/python3.10/dist-packages (from -r requirements.txt (line 4)) (0.13.2)\n",
            "Requirement already satisfied: yfinance in /usr/local/lib/python3.10/dist-packages (from -r requirements.txt (line 5)) (0.2.48)\n",
            "Requirement already satisfied: scikit-learn in /usr/local/lib/python3.10/dist-packages (from -r requirements.txt (line 6)) (1.5.2)\n",
            "Collecting sklearn.preprocessing (from -r requirements.txt (line 7))\n",
            "  Downloading sklearn_preprocessing-0.1.0-py3-none-any.whl.metadata (70 bytes)\n",
            "Collecting scikeras (from -r requirements.txt (line 8))\n",
            "  Downloading scikeras-0.13.0-py3-none-any.whl.metadata (3.1 kB)\n",
            "Requirement already satisfied: keras in /usr/local/lib/python3.10/dist-packages (from -r requirements.txt (line 9)) (3.4.1)\n",
            "Requirement already satisfied: tensorflow in /usr/local/lib/python3.10/dist-packages (from -r requirements.txt (line 10)) (2.17.0)\n",
            "Collecting keras_tuner (from -r requirements.txt (line 11))\n",
            "  Downloading keras_tuner-1.4.7-py3-none-any.whl.metadata (5.4 kB)\n",
            "Requirement already satisfied: python-dateutil>=2.8.2 in /usr/local/lib/python3.10/dist-packages (from pandas->-r requirements.txt (line 1)) (2.8.2)\n",
            "Requirement already satisfied: pytz>=2020.1 in /usr/local/lib/python3.10/dist-packages (from pandas->-r requirements.txt (line 1)) (2024.2)\n",
            "Requirement already satisfied: tzdata>=2022.7 in /usr/local/lib/python3.10/dist-packages (from pandas->-r requirements.txt (line 1)) (2024.2)\n",
            "Requirement already satisfied: contourpy>=1.0.1 in /usr/local/lib/python3.10/dist-packages (from matplotlib->-r requirements.txt (line 3)) (1.3.0)\n",
            "Requirement already satisfied: cycler>=0.10 in /usr/local/lib/python3.10/dist-packages (from matplotlib->-r requirements.txt (line 3)) (0.12.1)\n",
            "Requirement already satisfied: fonttools>=4.22.0 in /usr/local/lib/python3.10/dist-packages (from matplotlib->-r requirements.txt (line 3)) (4.54.1)\n",
            "Requirement already satisfied: kiwisolver>=1.0.1 in /usr/local/lib/python3.10/dist-packages (from matplotlib->-r requirements.txt (line 3)) (1.4.7)\n",
            "Requirement already satisfied: packaging>=20.0 in /usr/local/lib/python3.10/dist-packages (from matplotlib->-r requirements.txt (line 3)) (24.1)\n",
            "Requirement already satisfied: pillow>=6.2.0 in /usr/local/lib/python3.10/dist-packages (from matplotlib->-r requirements.txt (line 3)) (10.4.0)\n",
            "Requirement already satisfied: pyparsing>=2.3.1 in /usr/local/lib/python3.10/dist-packages (from matplotlib->-r requirements.txt (line 3)) (3.2.0)\n",
            "Requirement already satisfied: requests>=2.31 in /usr/local/lib/python3.10/dist-packages (from yfinance->-r requirements.txt (line 5)) (2.32.3)\n",
            "Requirement already satisfied: multitasking>=0.0.7 in /usr/local/lib/python3.10/dist-packages (from yfinance->-r requirements.txt (line 5)) (0.0.11)\n",
            "Requirement already satisfied: lxml>=4.9.1 in /usr/local/lib/python3.10/dist-packages (from yfinance->-r requirements.txt (line 5)) (5.3.0)\n",
            "Requirement already satisfied: platformdirs>=2.0.0 in /usr/local/lib/python3.10/dist-packages (from yfinance->-r requirements.txt (line 5)) (4.3.6)\n",
            "Requirement already satisfied: frozendict>=2.3.4 in /usr/local/lib/python3.10/dist-packages (from yfinance->-r requirements.txt (line 5)) (2.4.6)\n",
            "Requirement already satisfied: peewee>=3.16.2 in /usr/local/lib/python3.10/dist-packages (from yfinance->-r requirements.txt (line 5)) (3.17.7)\n",
            "Requirement already satisfied: beautifulsoup4>=4.11.1 in /usr/local/lib/python3.10/dist-packages (from yfinance->-r requirements.txt (line 5)) (4.12.3)\n",
            "Requirement already satisfied: html5lib>=1.1 in /usr/local/lib/python3.10/dist-packages (from yfinance->-r requirements.txt (line 5)) (1.1)\n",
            "Requirement already satisfied: scipy>=1.6.0 in /usr/local/lib/python3.10/dist-packages (from scikit-learn->-r requirements.txt (line 6)) (1.13.1)\n",
            "Requirement already satisfied: joblib>=1.2.0 in /usr/local/lib/python3.10/dist-packages (from scikit-learn->-r requirements.txt (line 6)) (1.4.2)\n",
            "Requirement already satisfied: threadpoolctl>=3.1.0 in /usr/local/lib/python3.10/dist-packages (from scikit-learn->-r requirements.txt (line 6)) (3.5.0)\n",
            "Requirement already satisfied: absl-py in /usr/local/lib/python3.10/dist-packages (from keras->-r requirements.txt (line 9)) (1.4.0)\n",
            "Requirement already satisfied: rich in /usr/local/lib/python3.10/dist-packages (from keras->-r requirements.txt (line 9)) (13.9.3)\n",
            "Requirement already satisfied: namex in /usr/local/lib/python3.10/dist-packages (from keras->-r requirements.txt (line 9)) (0.0.8)\n",
            "Requirement already satisfied: h5py in /usr/local/lib/python3.10/dist-packages (from keras->-r requirements.txt (line 9)) (3.12.1)\n",
            "Requirement already satisfied: optree in /usr/local/lib/python3.10/dist-packages (from keras->-r requirements.txt (line 9)) (0.13.0)\n",
            "Requirement already satisfied: ml-dtypes in /usr/local/lib/python3.10/dist-packages (from keras->-r requirements.txt (line 9)) (0.4.1)\n",
            "Requirement already satisfied: astunparse>=1.6.0 in /usr/local/lib/python3.10/dist-packages (from tensorflow->-r requirements.txt (line 10)) (1.6.3)\n",
            "Requirement already satisfied: flatbuffers>=24.3.25 in /usr/local/lib/python3.10/dist-packages (from tensorflow->-r requirements.txt (line 10)) (24.3.25)\n",
            "Requirement already satisfied: gast!=0.5.0,!=0.5.1,!=0.5.2,>=0.2.1 in /usr/local/lib/python3.10/dist-packages (from tensorflow->-r requirements.txt (line 10)) (0.6.0)\n",
            "Requirement already satisfied: google-pasta>=0.1.1 in /usr/local/lib/python3.10/dist-packages (from tensorflow->-r requirements.txt (line 10)) (0.2.0)\n",
            "Requirement already satisfied: libclang>=13.0.0 in /usr/local/lib/python3.10/dist-packages (from tensorflow->-r requirements.txt (line 10)) (18.1.1)\n",
            "Requirement already satisfied: opt-einsum>=2.3.2 in /usr/local/lib/python3.10/dist-packages (from tensorflow->-r requirements.txt (line 10)) (3.4.0)\n",
            "Requirement already satisfied: protobuf!=4.21.0,!=4.21.1,!=4.21.2,!=4.21.3,!=4.21.4,!=4.21.5,<5.0.0dev,>=3.20.3 in /usr/local/lib/python3.10/dist-packages (from tensorflow->-r requirements.txt (line 10)) (3.20.3)\n",
            "Requirement already satisfied: setuptools in /usr/local/lib/python3.10/dist-packages (from tensorflow->-r requirements.txt (line 10)) (75.1.0)\n",
            "Requirement already satisfied: six>=1.12.0 in /usr/local/lib/python3.10/dist-packages (from tensorflow->-r requirements.txt (line 10)) (1.16.0)\n",
            "Requirement already satisfied: termcolor>=1.1.0 in /usr/local/lib/python3.10/dist-packages (from tensorflow->-r requirements.txt (line 10)) (2.5.0)\n",
            "Requirement already satisfied: typing-extensions>=3.6.6 in /usr/local/lib/python3.10/dist-packages (from tensorflow->-r requirements.txt (line 10)) (4.12.2)\n",
            "Requirement already satisfied: wrapt>=1.11.0 in /usr/local/lib/python3.10/dist-packages (from tensorflow->-r requirements.txt (line 10)) (1.16.0)\n",
            "Requirement already satisfied: grpcio<2.0,>=1.24.3 in /usr/local/lib/python3.10/dist-packages (from tensorflow->-r requirements.txt (line 10)) (1.64.1)\n",
            "Requirement already satisfied: tensorboard<2.18,>=2.17 in /usr/local/lib/python3.10/dist-packages (from tensorflow->-r requirements.txt (line 10)) (2.17.0)\n",
            "Requirement already satisfied: tensorflow-io-gcs-filesystem>=0.23.1 in /usr/local/lib/python3.10/dist-packages (from tensorflow->-r requirements.txt (line 10)) (0.37.1)\n",
            "Collecting kt-legacy (from keras_tuner->-r requirements.txt (line 11))\n",
            "  Downloading kt_legacy-1.0.5-py3-none-any.whl.metadata (221 bytes)\n",
            "Requirement already satisfied: wheel<1.0,>=0.23.0 in /usr/local/lib/python3.10/dist-packages (from astunparse>=1.6.0->tensorflow->-r requirements.txt (line 10)) (0.44.0)\n",
            "Requirement already satisfied: soupsieve>1.2 in /usr/local/lib/python3.10/dist-packages (from beautifulsoup4>=4.11.1->yfinance->-r requirements.txt (line 5)) (2.6)\n",
            "Requirement already satisfied: webencodings in /usr/local/lib/python3.10/dist-packages (from html5lib>=1.1->yfinance->-r requirements.txt (line 5)) (0.5.1)\n",
            "Requirement already satisfied: charset-normalizer<4,>=2 in /usr/local/lib/python3.10/dist-packages (from requests>=2.31->yfinance->-r requirements.txt (line 5)) (3.4.0)\n",
            "Requirement already satisfied: idna<4,>=2.5 in /usr/local/lib/python3.10/dist-packages (from requests>=2.31->yfinance->-r requirements.txt (line 5)) (3.10)\n",
            "Requirement already satisfied: urllib3<3,>=1.21.1 in /usr/local/lib/python3.10/dist-packages (from requests>=2.31->yfinance->-r requirements.txt (line 5)) (2.2.3)\n",
            "Requirement already satisfied: certifi>=2017.4.17 in /usr/local/lib/python3.10/dist-packages (from requests>=2.31->yfinance->-r requirements.txt (line 5)) (2024.8.30)\n",
            "Requirement already satisfied: markdown>=2.6.8 in /usr/local/lib/python3.10/dist-packages (from tensorboard<2.18,>=2.17->tensorflow->-r requirements.txt (line 10)) (3.7)\n",
            "Requirement already satisfied: tensorboard-data-server<0.8.0,>=0.7.0 in /usr/local/lib/python3.10/dist-packages (from tensorboard<2.18,>=2.17->tensorflow->-r requirements.txt (line 10)) (0.7.2)\n",
            "Requirement already satisfied: werkzeug>=1.0.1 in /usr/local/lib/python3.10/dist-packages (from tensorboard<2.18,>=2.17->tensorflow->-r requirements.txt (line 10)) (3.0.6)\n",
            "Requirement already satisfied: markdown-it-py>=2.2.0 in /usr/local/lib/python3.10/dist-packages (from rich->keras->-r requirements.txt (line 9)) (3.0.0)\n",
            "Requirement already satisfied: pygments<3.0.0,>=2.13.0 in /usr/local/lib/python3.10/dist-packages (from rich->keras->-r requirements.txt (line 9)) (2.18.0)\n",
            "Requirement already satisfied: mdurl~=0.1 in /usr/local/lib/python3.10/dist-packages (from markdown-it-py>=2.2.0->rich->keras->-r requirements.txt (line 9)) (0.1.2)\n",
            "Requirement already satisfied: MarkupSafe>=2.1.1 in /usr/local/lib/python3.10/dist-packages (from werkzeug>=1.0.1->tensorboard<2.18,>=2.17->tensorflow->-r requirements.txt (line 10)) (3.0.2)\n",
            "Downloading sklearn_preprocessing-0.1.0-py3-none-any.whl (10 kB)\n",
            "Downloading scikeras-0.13.0-py3-none-any.whl (26 kB)\n",
            "Downloading keras_tuner-1.4.7-py3-none-any.whl (129 kB)\n",
            "\u001b[2K   \u001b[90m━━━━━━━━━━━━━━━━━━━━━━━━━━━━━━━━━━━━━━━━\u001b[0m \u001b[32m129.1/129.1 kB\u001b[0m \u001b[31m5.1 MB/s\u001b[0m eta \u001b[36m0:00:00\u001b[0m\n",
            "\u001b[?25hDownloading kt_legacy-1.0.5-py3-none-any.whl (9.6 kB)\n",
            "Installing collected packages: sklearn.preprocessing, kt-legacy, scikeras, keras_tuner\n",
            "Successfully installed keras_tuner-1.4.7 kt-legacy-1.0.5 scikeras-0.13.0 sklearn.preprocessing-0.1.0\n"
          ]
        }
      ],
      "source": [
        "!pip install -r requirements.txt"
      ]
    },
    {
      "cell_type": "markdown",
      "metadata": {
        "id": "BD1eUKpRNdmJ"
      },
      "source": [
        "## Data Preprocessing"
      ]
    },
    {
      "cell_type": "code",
      "execution_count": 4,
      "metadata": {
        "id": "WtqsiH_fNdmJ"
      },
      "outputs": [],
      "source": [
        "# All the imports that are needed for the models\n",
        "import keras\n",
        "import keras_tuner\n",
        "import sklearn\n",
        "import pandas as pd\n",
        "import numpy as np\n",
        "import tensorflow as tf\n",
        "import yfinance as yf\n",
        "import matplotlib.pyplot as plt\n",
        "from datetime import datetime, timedelta\n",
        "from keras.layers import Dense\n",
        "from keras.models import Sequential\n",
        "from scikeras.wrappers import KerasRegressor\n",
        "from keras.optimizers import SGD\n",
        "from sklearn import linear_model\n",
        "from sklearn.ensemble import RandomForestRegressor\n",
        "from sklearn.linear_model import ARDRegression, LinearRegression\n",
        "from sklearn.metrics import mean_squared_error, confusion_matrix, precision_score, accuracy_score, recall_score\n",
        "from sklearn.model_selection import train_test_split, RepeatedKFold\n",
        "from sklearn.preprocessing import LabelEncoder, OneHotEncoder, PolynomialFeatures"
      ]
    },
    {
      "cell_type": "code",
      "source": [
        "# This is our index of different timezone and major cities within each timezone in the form of a dictionary\n",
        "cities_by_timezone = {\n",
        "    'Pacific Time': ['Los Angeles', 'San Francisco Bay Area', 'Seattle', 'Portland', 'San Luis Obispo', 'Sacramento', 'San Diego', 'Santa Barbara', 'Camarillo', 'Fremont', 'Bend', 'Reno', 'Spokane', 'Las Vegas', 'Fresno'],\n",
        "    'Mountain Time': ['Denver', 'Boulder', 'Salt Lake City', 'Missoula', 'Santa Fe', 'Phoenix', 'Lehi', 'Logan', 'Boise'],\n",
        "    'Central Time': ['Austin', 'Chicago', 'Minneapolis', 'Milwaukee', 'Nashville', 'Dallas', 'Cincinnati', 'Columbus', 'Indianapolis', 'Nebraska City', 'Kansas City'],\n",
        "    'Eastern Time': ['New York City', 'Boston', 'Atlanta', 'Ann Arbor', 'Miami', 'Detroit', 'Stamford', 'Washington DC', 'Philadelphia', 'Raleigh', 'Walnut', 'Madison', 'Dover', 'Burlington', 'Wilmington', 'Nashua', 'Baltimore', 'Tampa Bay']\n",
        "}\n",
        "\n",
        "def get_timezone(city):\n",
        "    '''\n",
        "    Retrieve the timezone associated with a city.\n",
        "\n",
        "    @type city: string\n",
        "    @param city: name of city to retrieve timezone for\n",
        "    @rtype: string, None\n",
        "    @returns timezone: timezone of a city if in an index; otherwise, None\n",
        "    '''\n",
        "    for timezone, cities in cities_by_timezone.items():\n",
        "        if city in cities:\n",
        "            return timezone\n",
        "    return None"
      ],
      "metadata": {
        "id": "cCVsrHcvLwFC"
      },
      "execution_count": 5,
      "outputs": []
    },
    {
      "cell_type": "code",
      "execution_count": 6,
      "metadata": {
        "colab": {
          "base_uri": "https://localhost:8080/",
          "height": 1000
        },
        "id": "98bPAtKjNdmN",
        "outputId": "77e3e6be-757d-4ec9-d022-5b071bd32121"
      },
      "outputs": [
        {
          "output_type": "stream",
          "name": "stderr",
          "text": [
            "\r[*********************100%***********************]  1 of 1 completed\n"
          ]
        },
        {
          "output_type": "display_data",
          "data": {
            "text/plain": [
              "<Figure size 2000x1000 with 1 Axes>"
            ],
            "image/png": "[encoded data removed]"
          },
          "metadata": {}
        },
        {
          "output_type": "stream",
          "name": "stdout",
          "text": [
            "Price                         Adj Close         Close          High  \\\n",
            "Date                                                                  \n",
            "2019-08-01 00:00:00+00:00   4762.810059   4762.810059   4924.919922   \n",
            "2019-08-02 00:00:00+00:00   4655.560059   4655.560059   4712.990234   \n",
            "2019-08-05 00:00:00+00:00   4469.970215   4469.970215   4534.649902   \n",
            "2019-08-06 00:00:00+00:00   4531.810059   4531.810059   4562.890137   \n",
            "2019-08-07 00:00:00+00:00   4550.560059   4550.560059   4563.459961   \n",
            "...                                 ...           ...           ...   \n",
            "2024-10-28 00:00:00+00:00  10523.860352  10523.860352  10582.809570   \n",
            "2024-10-29 00:00:00+00:00  10745.330078  10745.330078  10776.650391   \n",
            "2024-10-30 00:00:00+00:00  10468.049805  10468.049805  10621.509766   \n",
            "2024-10-31 00:00:00+00:00  10154.190430  10154.190430  10393.200195   \n",
            "2024-11-01 00:00:00+00:00  10281.370117  10281.370117  10338.169922   \n",
            "\n",
            "Price                               Low          Open  Volume  price_diff  \n",
            "Date                                                                       \n",
            "2019-08-01 00:00:00+00:00   4726.339844   4821.149902  425800         NaN  \n",
            "2019-08-02 00:00:00+00:00   4629.250000   4695.549805  356000         NaN  \n",
            "2019-08-05 00:00:00+00:00   4434.459961   4525.939941  427900         NaN  \n",
            "2019-08-06 00:00:00+00:00   4481.229980   4530.689941  317500         NaN  \n",
            "2019-08-07 00:00:00+00:00   4470.759766   4480.180176  321600         NaN  \n",
            "...                                 ...           ...     ...         ...  \n",
            "2024-10-28 00:00:00+00:00  10490.820312  10500.639648       0  258.609375  \n",
            "2024-10-29 00:00:00+00:00  10513.950195  10571.639648       0  305.139648  \n",
            "2024-10-30 00:00:00+00:00  10466.269531  10542.580078       0  291.440430  \n",
            "2024-10-31 00:00:00+00:00  10134.969727  10391.549805       0  792.419922  \n",
            "2024-11-01 00:00:00+00:00  10193.240234  10221.799805       0  622.669922  \n",
            "\n",
            "[1324 rows x 7 columns]\n"
          ]
        }
      ],
      "source": [
        "import yfinance as yf\n",
        "import pandas as pd\n",
        "from datetime import datetime, timedelta\n",
        "\n",
        "# Download NASDAQ 100 data\n",
        "stock_data = yf.download('^NDXT', start=datetime(2019, 8, 1), end=datetime(2024, 12, 1))\n",
        "if isinstance(stock_data.columns, pd.MultiIndex):\n",
        "    stock_data.columns = stock_data.columns.get_level_values(0)\n",
        "\n",
        "def closest_day(row, df):\n",
        "    target_date = row.name - timedelta(days=90)\n",
        "    available_dates = df.index\n",
        "    closest_date = available_dates[available_dates <= target_date].max()\n",
        "    # if target_date != closest_date:\n",
        "    #     print(f\"target date is: {target_date}\")\n",
        "    #     print(f\"closest date: {closest_date}\")\n",
        "    return closest_date\n",
        "\n",
        "# Calculate 7-day difference in the Open price\n",
        "stock_data['price_diff'] = stock_data.apply(\n",
        "    lambda row: row['Open'] - stock_data.loc[closest_day(row, stock_data), 'Open'] if pd.notnull(closest_day(row, stock_data)) else None,\n",
        "    axis=1\n",
        ")\n",
        "\n",
        "stock_data.to_csv('stock_data.csv', index = False, encoding='utf-8')\n",
        "\n",
        "# Visualize our preliminary stock data of opening prices\n",
        "plt.figure(figsize = (20,10))\n",
        "plt.title('Opening Prices from {} to {}'.format(datetime(2019, 8, 1),\n",
        "                                                datetime(2024, 12, 1)))\n",
        "plt.plot(stock_data['Open'])\n",
        "plt.show()\n",
        "\n",
        "print(stock_data)"
      ]
    },
    {
      "cell_type": "code",
      "source": [
        "layoff_data = pd.read_csv('tech_layoffs.csv')\n",
        "print(layoff_data.dtypes)\n",
        "print(layoff_data.head())"
      ],
      "metadata": {
        "colab": {
          "base_uri": "https://localhost:8080/"
        },
        "id": "jZWjeBXGz2_N",
        "outputId": "72383a88-e0ec-47dc-a39e-135d34beb387"
      },
      "execution_count": 7,
      "outputs": [
        {
          "output_type": "stream",
          "name": "stdout",
          "text": [
            "#                                int64\n",
            "Company                         object\n",
            "Location_HQ                     object\n",
            "Region                          object\n",
            "State                           object\n",
            "Country                         object\n",
            "Continent                       object\n",
            "Laid_Off                       float64\n",
            "Date_layoffs                    object\n",
            "Percentage                      object\n",
            "Company_Size_before_Layoffs     object\n",
            "Company_Size_after_layoffs      object\n",
            "Industry                        object\n",
            "Stage                           object\n",
            "Money_Raised_in__mil           float64\n",
            "Year                             int64\n",
            "latitude                       float64\n",
            "longitude                      float64\n",
            "dtype: object\n",
            "   #        Company    Location_HQ                  Region       State  \\\n",
            "0  1  Tamara Mellon    Los Angeles                     NaN  California   \n",
            "1  2   HopSkipDrive    Los Angeles                     NaN  California   \n",
            "2  3    Panda Squad  San Francisco  San Francisco Bay Area  California   \n",
            "3  4       Help.com         Austin                     NaN         NaN   \n",
            "4  5      Inspirato         Denver                     NaN         NaN   \n",
            "\n",
            "  Country      Continent  Laid_Off Date_layoffs Percentage  \\\n",
            "0     USA  North America      20.0   2020-03-12       40,0   \n",
            "1     USA  North America       8.0   2020-03-13       10,0   \n",
            "2     USA  North America       6.0   2020-03-13       75,0   \n",
            "3     USA  North America      16.0   2020-03-16      100,0   \n",
            "4     USA  North America     130.0   2020-03-16       22,0   \n",
            "\n",
            "  Company_Size_before_Layoffs Company_Size_after_layoffs        Industry  \\\n",
            "0                         50                         30           Retail   \n",
            "1                         80                         72   Transportation   \n",
            "2                          8                          2         Consumer   \n",
            "3                         16                          0          Support   \n",
            "4                        591                        461           Travel   \n",
            "\n",
            "      Stage  Money_Raised_in__mil  Year   latitude   longitude  \n",
            "0  Series C                  90.0  2020  34.053691 -118.242766  \n",
            "1   Unknown                  45.0  2020  34.053691 -118.242766  \n",
            "2      Seed                   1.0  2020  37.779259 -122.419329  \n",
            "3      Seed                   6.0  2020  30.271129  -97.743700  \n",
            "4  Series C                  79.0  2020  39.739236 -104.984862  \n"
          ]
        }
      ]
    },
    {
      "cell_type": "code",
      "source": [
        "import pandas as pd\n",
        "\n",
        "# Ensure Date_layoffs is in datetime format and remove any timezone information\n",
        "layoff_data['Date_layoffs'] = pd.to_datetime(layoff_data['Date_layoffs']).dt.tz_localize(None)\n",
        "\n",
        "# Remove timezone info from stock_data index (if it has timezones)\n",
        "stock_data.index = stock_data.index.tz_localize(None)\n",
        "\n",
        "# Function to find the closest available date in stock_data for a given target_date\n",
        "def find_closest_date(df, target_date):\n",
        "    available_dates = df.index\n",
        "    closest_date = available_dates[available_dates <= target_date].max()\n",
        "    return closest_date\n",
        "\n",
        "# Function to assign the 90-day price difference (from the stock_data's price_diff column)\n",
        "def get_stock_delta(layoff_date):\n",
        "    # Find the closest available date for the layoff date in stock_data\n",
        "    closest_date = find_closest_date(stock_data, layoff_date)\n",
        "\n",
        "    # If the closest date is found, return the pre-calculated 'price_diff'\n",
        "    if pd.notnull(closest_date):\n",
        "        return stock_data.loc[closest_date, 'price_diff']\n",
        "    else:\n",
        "        return None\n",
        "\n",
        "# Apply the function to assign stock_delta using the pre-calculated 'price_diff' column\n",
        "layoff_data['stock_delta'] = layoff_data['Date_layoffs'].apply(get_stock_delta)\n",
        "layoff_data.sort_values(by='Date_layoffs', inplace=True)\n",
        "\n",
        "# Display the updated DataFrame\n",
        "layoff_data[['Date_layoffs', 'stock_delta']]\n"
      ],
      "metadata": {
        "colab": {
          "base_uri": "https://localhost:8080/",
          "height": 423
        },
        "id": "DdQozBWu4Fwf",
        "outputId": "90b19255-c20f-42ad-f8cf-2ff13a31f2ff"
      },
      "execution_count": 8,
      "outputs": [
        {
          "output_type": "execute_result",
          "data": {
            "text/plain": [
              "     Date_layoffs  stock_delta\n",
              "0      2020-03-12  -950.669922\n",
              "1      2020-03-13  -795.139648\n",
              "2      2020-03-13  -795.139648\n",
              "3      2020-03-16 -1064.330078\n",
              "4      2020-03-16 -1064.330078\n",
              "...           ...          ...\n",
              "1835   2024-06-26   242.679688\n",
              "1833   2024-06-26   242.679688\n",
              "1836   2024-06-26   242.679688\n",
              "1837   2024-06-27   270.879883\n",
              "1838   2024-06-28   364.179688\n",
              "\n",
              "[1839 rows x 2 columns]"
            ],
            "text/html": [
              "\n",
              "  <div id=\"df-657db5e9-ba3f-4915-98d9-de1600103afe\" class=\"colab-df-container\">\n",
              "    <div>\n",
              "<style scoped>\n",
              "    .dataframe tbody tr th:only-of-type {\n",
              "        vertical-align: middle;\n",
              "    }\n",
              "\n",
              "    .dataframe tbody tr th {\n",
              "        vertical-align: top;\n",
              "    }\n",
              "\n",
              "    .dataframe thead th {\n",
              "        text-align: right;\n",
              "    }\n",
              "</style>\n",
              "<table border=\"1\" class=\"dataframe\">\n",
              "  <thead>\n",
              "    <tr style=\"text-align: right;\">\n",
              "      <th></th>\n",
              "      <th>Date_layoffs</th>\n",
              "      <th>stock_delta</th>\n",
              "    </tr>\n",
              "  </thead>\n",
              "  <tbody>\n",
              "    <tr>\n",
              "      <th>0</th>\n",
              "      <td>2020-03-12</td>\n",
              "      <td>-950.669922</td>\n",
              "    </tr>\n",
              "    <tr>\n",
              "      <th>1</th>\n",
              "      <td>2020-03-13</td>\n",
              "      <td>-795.139648</td>\n",
              "    </tr>\n",
              "    <tr>\n",
              "      <th>2</th>\n",
              "      <td>2020-03-13</td>\n",
              "      <td>-795.139648</td>\n",
              "    </tr>\n",
              "    <tr>\n",
              "      <th>3</th>\n",
              "      <td>2020-03-16</td>\n",
              "      <td>-1064.330078</td>\n",
              "    </tr>\n",
              "    <tr>\n",
              "      <th>4</th>\n",
              "      <td>2020-03-16</td>\n",
              "      <td>-1064.330078</td>\n",
              "    </tr>\n",
              "    <tr>\n",
              "      <th>...</th>\n",
              "      <td>...</td>\n",
              "      <td>...</td>\n",
              "    </tr>\n",
              "    <tr>\n",
              "      <th>1835</th>\n",
              "      <td>2024-06-26</td>\n",
              "      <td>242.679688</td>\n",
              "    </tr>\n",
              "    <tr>\n",
              "      <th>1833</th>\n",
              "      <td>2024-06-26</td>\n",
              "      <td>242.679688</td>\n",
              "    </tr>\n",
              "    <tr>\n",
              "      <th>1836</th>\n",
              "      <td>2024-06-26</td>\n",
              "      <td>242.679688</td>\n",
              "    </tr>\n",
              "    <tr>\n",
              "      <th>1837</th>\n",
              "      <td>2024-06-27</td>\n",
              "      <td>270.879883</td>\n",
              "    </tr>\n",
              "    <tr>\n",
              "      <th>1838</th>\n",
              "      <td>2024-06-28</td>\n",
              "      <td>364.179688</td>\n",
              "    </tr>\n",
              "  </tbody>\n",
              "</table>\n",
              "<p>1839 rows × 2 columns</p>\n",
              "</div>\n",
              "    <div class=\"colab-df-buttons\">\n",
              "\n",
              "  <div class=\"colab-df-container\">\n",
              "    <button class=\"colab-df-convert\" onclick=\"convertToInteractive('df-657db5e9-ba3f-4915-98d9-de1600103afe')\"\n",
              "            title=\"Convert this dataframe to an interactive table.\"\n",
              "            style=\"display:none;\">\n",
              "\n",
              "  <svg xmlns=\"http://www.w3.org/2000/svg\" height=\"24px\" viewBox=\"0 -960 960 960\">\n",
              "    <path d=\"M120-120v-720h720v720H120Zm60-500h600v-160H180v160Zm220 220h160v-160H400v160Zm0 220h160v-160H400v160ZM180-400h160v-160H180v160Zm440 0h160v-160H620v160ZM180-180h160v-160H180v160Zm440 0h160v-160H620v160Z\"/>\n",
              "  </svg>\n",
              "    </button>\n",
              "\n",
              "  <style>\n",
              "    .colab-df-container {\n",
              "      display:flex;\n",
              "      gap: 12px;\n",
              "    }\n",
              "\n",
              "    .colab-df-convert {\n",
              "      background-color: #E8F0FE;\n",
              "      border: none;\n",
              "      border-radius: 50%;\n",
              "      cursor: pointer;\n",
              "      display: none;\n",
              "      fill: #1967D2;\n",
              "      height: 32px;\n",
              "      padding: 0 0 0 0;\n",
              "      width: 32px;\n",
              "    }\n",
              "\n",
              "    .colab-df-convert:hover {\n",
              "      background-color: #E2EBFA;\n",
              "      box-shadow: 0px 1px 2px rgba(60, 64, 67, 0.3), 0px 1px 3px 1px rgba(60, 64, 67, 0.15);\n",
              "      fill: #174EA6;\n",
              "    }\n",
              "\n",
              "    .colab-df-buttons div {\n",
              "      margin-bottom: 4px;\n",
              "    }\n",
              "\n",
              "    [theme=dark] .colab-df-convert {\n",
              "      background-color: #3B4455;\n",
              "      fill: #D2E3FC;\n",
              "    }\n",
              "\n",
              "    [theme=dark] .colab-df-convert:hover {\n",
              "      background-color: #434B5C;\n",
              "      box-shadow: 0px 1px 3px 1px rgba(0, 0, 0, 0.15);\n",
              "      filter: drop-shadow(0px 1px 2px rgba(0, 0, 0, 0.3));\n",
              "      fill: #FFFFFF;\n",
              "    }\n",
              "  </style>\n",
              "\n",
              "    <script>\n",
              "      const buttonEl =\n",
              "        document.querySelector('#df-657db5e9-ba3f-4915-98d9-de1600103afe button.colab-df-convert');\n",
              "      buttonEl.style.display =\n",
              "        google.colab.kernel.accessAllowed ? 'block' : 'none';\n",
              "\n",
              "      async function convertToInteractive(key) {\n",
              "        const element = document.querySelector('#df-657db5e9-ba3f-4915-98d9-de1600103afe');\n",
              "        const dataTable =\n",
              "          await google.colab.kernel.invokeFunction('convertToInteractive',\n",
              "                                                    [key], {});\n",
              "        if (!dataTable) return;\n",
              "\n",
              "        const docLinkHtml = 'Like what you see? Visit the ' +\n",
              "          '<a target=\"_blank\" href=https://colab.research.google.com/notebooks/data_table.ipynb>data table notebook</a>'\n",
              "          + ' to learn more about interactive tables.';\n",
              "        element.innerHTML = '';\n",
              "        dataTable['output_type'] = 'display_data';\n",
              "        await google.colab.output.renderOutput(dataTable, element);\n",
              "        const docLink = document.createElement('div');\n",
              "        docLink.innerHTML = docLinkHtml;\n",
              "        element.appendChild(docLink);\n",
              "      }\n",
              "    </script>\n",
              "  </div>\n",
              "\n",
              "\n",
              "<div id=\"df-f6e1bcb4-cba8-4334-ac38-2070078cc757\">\n",
              "  <button class=\"colab-df-quickchart\" onclick=\"quickchart('df-f6e1bcb4-cba8-4334-ac38-2070078cc757')\"\n",
              "            title=\"Suggest charts\"\n",
              "            style=\"display:none;\">\n",
              "\n",
              "<svg xmlns=\"http://www.w3.org/2000/svg\" height=\"24px\"viewBox=\"0 0 24 24\"\n",
              "     width=\"24px\">\n",
              "    <g>\n",
              "        <path d=\"M19 3H5c-1.1 0-2 .9-2 2v14c0 1.1.9 2 2 2h14c1.1 0 2-.9 2-2V5c0-1.1-.9-2-2-2zM9 17H7v-7h2v7zm4 0h-2V7h2v10zm4 0h-2v-4h2v4z\"/>\n",
              "    </g>\n",
              "</svg>\n",
              "  </button>\n",
              "\n",
              "<style>\n",
              "  .colab-df-quickchart {\n",
              "      --bg-color: #E8F0FE;\n",
              "      --fill-color: #1967D2;\n",
              "      --hover-bg-color: #E2EBFA;\n",
              "      --hover-fill-color: #174EA6;\n",
              "      --disabled-fill-color: #AAA;\n",
              "      --disabled-bg-color: #DDD;\n",
              "  }\n",
              "\n",
              "  [theme=dark] .colab-df-quickchart {\n",
              "      --bg-color: #3B4455;\n",
              "      --fill-color: #D2E3FC;\n",
              "      --hover-bg-color: #434B5C;\n",
              "      --hover-fill-color: #FFFFFF;\n",
              "      --disabled-bg-color: #3B4455;\n",
              "      --disabled-fill-color: #666;\n",
              "  }\n",
              "\n",
              "  .colab-df-quickchart {\n",
              "    background-color: var(--bg-color);\n",
              "    border: none;\n",
              "    border-radius: 50%;\n",
              "    cursor: pointer;\n",
              "    display: none;\n",
              "    fill: var(--fill-color);\n",
              "    height: 32px;\n",
              "    padding: 0;\n",
              "    width: 32px;\n",
              "  }\n",
              "\n",
              "  .colab-df-quickchart:hover {\n",
              "    background-color: var(--hover-bg-color);\n",
              "    box-shadow: 0 1px 2px rgba(60, 64, 67, 0.3), 0 1px 3px 1px rgba(60, 64, 67, 0.15);\n",
              "    fill: var(--button-hover-fill-color);\n",
              "  }\n",
              "\n",
              "  .colab-df-quickchart-complete:disabled,\n",
              "  .colab-df-quickchart-complete:disabled:hover {\n",
              "    background-color: var(--disabled-bg-color);\n",
              "    fill: var(--disabled-fill-color);\n",
              "    box-shadow: none;\n",
              "  }\n",
              "\n",
              "  .colab-df-spinner {\n",
              "    border: 2px solid var(--fill-color);\n",
              "    border-color: transparent;\n",
              "    border-bottom-color: var(--fill-color);\n",
              "    animation:\n",
              "      spin 1s steps(1) infinite;\n",
              "  }\n",
              "\n",
              "  @keyframes spin {\n",
              "    0% {\n",
              "      border-color: transparent;\n",
              "      border-bottom-color: var(--fill-color);\n",
              "      border-left-color: var(--fill-color);\n",
              "    }\n",
              "    20% {\n",
              "      border-color: transparent;\n",
              "      border-left-color: var(--fill-color);\n",
              "      border-top-color: var(--fill-color);\n",
              "    }\n",
              "    30% {\n",
              "      border-color: transparent;\n",
              "      border-left-color: var(--fill-color);\n",
              "      border-top-color: var(--fill-color);\n",
              "      border-right-color: var(--fill-color);\n",
              "    }\n",
              "    40% {\n",
              "      border-color: transparent;\n",
              "      border-right-color: var(--fill-color);\n",
              "      border-top-color: var(--fill-color);\n",
              "    }\n",
              "    60% {\n",
              "      border-color: transparent;\n",
              "      border-right-color: var(--fill-color);\n",
              "    }\n",
              "    80% {\n",
              "      border-color: transparent;\n",
              "      border-right-color: var(--fill-color);\n",
              "      border-bottom-color: var(--fill-color);\n",
              "    }\n",
              "    90% {\n",
              "      border-color: transparent;\n",
              "      border-bottom-color: var(--fill-color);\n",
              "    }\n",
              "  }\n",
              "</style>\n",
              "\n",
              "  <script>\n",
              "    async function quickchart(key) {\n",
              "      const quickchartButtonEl =\n",
              "        document.querySelector('#' + key + ' button');\n",
              "      quickchartButtonEl.disabled = true;  // To prevent multiple clicks.\n",
              "      quickchartButtonEl.classList.add('colab-df-spinner');\n",
              "      try {\n",
              "        const charts = await google.colab.kernel.invokeFunction(\n",
              "            'suggestCharts', [key], {});\n",
              "      } catch (error) {\n",
              "        console.error('Error during call to suggestCharts:', error);\n",
              "      }\n",
              "      quickchartButtonEl.classList.remove('colab-df-spinner');\n",
              "      quickchartButtonEl.classList.add('colab-df-quickchart-complete');\n",
              "    }\n",
              "    (() => {\n",
              "      let quickchartButtonEl =\n",
              "        document.querySelector('#df-f6e1bcb4-cba8-4334-ac38-2070078cc757 button');\n",
              "      quickchartButtonEl.style.display =\n",
              "        google.colab.kernel.accessAllowed ? 'block' : 'none';\n",
              "    })();\n",
              "  </script>\n",
              "</div>\n",
              "\n",
              "    </div>\n",
              "  </div>\n"
            ],
            "application/vnd.google.colaboratory.intrinsic+json": {
              "type": "dataframe",
              "summary": "{\n  \"name\": \"layoff_data[['Date_layoffs', 'stock_delta']]\",\n  \"rows\": 1839,\n  \"fields\": [\n    {\n      \"column\": \"Date_layoffs\",\n      \"properties\": {\n        \"dtype\": \"date\",\n        \"min\": \"2020-03-12 00:00:00\",\n        \"max\": \"2024-06-28 00:00:00\",\n        \"num_unique_values\": 645,\n        \"samples\": [\n          \"2024-06-15 00:00:00\",\n          \"2024-04-24 00:00:00\",\n          \"2024-05-02 00:00:00\"\n        ],\n        \"semantic_type\": \"\",\n        \"description\": \"\"\n      }\n    },\n    {\n      \"column\": \"stock_delta\",\n      \"properties\": {\n        \"dtype\": \"number\",\n        \"std\": 1087.9264508965073,\n        \"min\": -2147.92041015625,\n        \"max\": 2615.919921875,\n        \"num_unique_values\": 593,\n        \"samples\": [\n          -430.77978515625,\n          1098.0,\n          -372.81005859375\n        ],\n        \"semantic_type\": \"\",\n        \"description\": \"\"\n      }\n    }\n  ]\n}"
            }
          },
          "metadata": {},
          "execution_count": 8
        }
      ]
    },
    {
      "cell_type": "code",
      "source": [
        "layoff_data['Company'] = layoff_data['Company'].replace({'SaleSan Franciscoorce': 'Salesforce'})\n",
        "\n",
        "layoff_data['Company_Size_before_Layoffs'] = pd.to_numeric(\n",
        "    layoff_data['Company_Size_before_Layoffs'].str.replace(',', ''), errors='coerce'\n",
        ")\n",
        "layoff_data = layoff_data.sort_index()\n",
        "layoff_data = layoff_data[(layoff_data['Continent'] == 'North America') &\n",
        "                          (layoff_data['Country'] == 'USA') &\n",
        "                          (layoff_data['Company_Size_before_Layoffs'] >= 10)].drop(columns=[\"Company\", \"latitude\", \"longitude\", \"Continent\", \"Country\", \"#\"])\n",
        "\n",
        "# Assign new attribute 'Timezone' based on city\n",
        "layoff_data['Region'] = layoff_data['Location_HQ'].map(get_timezone)\n",
        "layoff_data = layoff_data.drop(columns=[\"Location_HQ\", \"Company_Size_after_layoffs\", \"Laid_Off\",\"State\"])\n",
        "\n",
        "#Incorporate stock price\n",
        "layoff_data = layoff_data.reset_index()\n",
        "\n",
        "\n",
        "industry_encoder = LabelEncoder()\n",
        "layoff_data['industry_encoded'] = industry_encoder.fit_transform(layoff_data['Industry'])\n",
        "\n",
        "time_encoder = LabelEncoder()\n",
        "layoff_data['Region_encoded'] = time_encoder.fit_transform(layoff_data['Region'])\n",
        "\n",
        "# Create LabelEncoder instance for stage column\n",
        "stage_encoder = LabelEncoder()\n",
        "layoff_data['stage_encoded'] = stage_encoder.fit_transform(layoff_data['Stage'])\n",
        "layoff_data = layoff_data.drop(columns=[\"Industry\", \"Stage\",\"Year\",\"Region\"])\n",
        "layoff_data['Money_Raised_in__mil'] = layoff_data['Money_Raised_in__mil'] * 1000000\n",
        "\n",
        "#convert date layoffs to unix\n",
        "layoff_data['Date_layoffs'] = layoff_data['Date_layoffs'].apply(lambda x: int(datetime.timestamp(x)))\n",
        "\n",
        "# Set our target to be the percentage of a company expected to be laid off at a specific point in time\n",
        "Y = layoff_data['Percentage'].str.replace(\",\",\".\").astype(float)\n",
        "# Extract and encode our string data such that it makes our data preprocessing more organized\n",
        "industry = layoff_data['industry_encoded'].values.reshape(-1, 1)\n",
        "stage = layoff_data['stage_encoded'] .values.reshape(-1, 1)\n",
        "region = layoff_data['Region_encoded'].values.reshape(-1, 1)\n",
        "\n",
        "# One-hot encode the string data columns\n",
        "encoder = OneHotEncoder(sparse_output=False, drop='first')\n",
        "industry_onehot, stage_onehot, region_onehot = encoder.fit_transform(industry), encoder.fit_transform(stage), encoder.fit_transform(region)\n",
        "\n",
        "# Drop the original categorical columns from layoff_data\n",
        "layoff_data = layoff_data.drop(columns=[\"industry_encoded\", \"stage_encoded\", \"Region_encoded\", \"Percentage\"])\n",
        "\n",
        "display(layoff_data)\n",
        "\n",
        "print(layoff_data.isnull().sum())\n"
      ],
      "metadata": {
        "colab": {
          "base_uri": "https://localhost:8080/",
          "height": 527
        },
        "id": "NWZ-CMeczTa6",
        "outputId": "f8072ce0-b866-4663-b194-db5635bc440d"
      },
      "execution_count": 9,
      "outputs": [
        {
          "output_type": "display_data",
          "data": {
            "text/plain": [
              "      index  Date_layoffs  Company_Size_before_Layoffs  Money_Raised_in__mil  \\\n",
              "0         0    1583971200                         50.0            90000000.0   \n",
              "1         1    1584057600                         80.0            45000000.0   \n",
              "2         3    1584316800                         16.0             6000000.0   \n",
              "3         4    1584316800                        591.0            79000000.0   \n",
              "4         5    1584489600                         20.0             4000000.0   \n",
              "...     ...           ...                          ...                   ...   \n",
              "998    1829    1719187200                       1000.0           509000000.0   \n",
              "999    1830    1719187200                       1143.0           100000000.0   \n",
              "1000   1836    1719360000                       1059.0           574000000.0   \n",
              "1001   1837    1719446400                        500.0           105000000.0   \n",
              "1002   1838    1719532800                        606.0            77000000.0   \n",
              "\n",
              "      stock_delta  \n",
              "0     -950.669922  \n",
              "1     -795.139648  \n",
              "2    -1064.330078  \n",
              "3    -1064.330078  \n",
              "4    -1340.020020  \n",
              "...           ...  \n",
              "998    257.769531  \n",
              "999    257.769531  \n",
              "1000   242.679688  \n",
              "1001   270.879883  \n",
              "1002   364.179688  \n",
              "\n",
              "[1003 rows x 5 columns]"
            ],
            "text/html": [
              "\n",
              "  <div id=\"df-a7e516a9-8e62-4bc9-91c8-329328dbd542\" class=\"colab-df-container\">\n",
              "    <div>\n",
              "<style scoped>\n",
              "    .dataframe tbody tr th:only-of-type {\n",
              "        vertical-align: middle;\n",
              "    }\n",
              "\n",
              "    .dataframe tbody tr th {\n",
              "        vertical-align: top;\n",
              "    }\n",
              "\n",
              "    .dataframe thead th {\n",
              "        text-align: right;\n",
              "    }\n",
              "</style>\n",
              "<table border=\"1\" class=\"dataframe\">\n",
              "  <thead>\n",
              "    <tr style=\"text-align: right;\">\n",
              "      <th></th>\n",
              "      <th>index</th>\n",
              "      <th>Date_layoffs</th>\n",
              "      <th>Company_Size_before_Layoffs</th>\n",
              "      <th>Money_Raised_in__mil</th>\n",
              "      <th>stock_delta</th>\n",
              "    </tr>\n",
              "  </thead>\n",
              "  <tbody>\n",
              "    <tr>\n",
              "      <th>0</th>\n",
              "      <td>0</td>\n",
              "      <td>1583971200</td>\n",
              "      <td>50.0</td>\n",
              "      <td>90000000.0</td>\n",
              "      <td>-950.669922</td>\n",
              "    </tr>\n",
              "    <tr>\n",
              "      <th>1</th>\n",
              "      <td>1</td>\n",
              "      <td>1584057600</td>\n",
              "      <td>80.0</td>\n",
              "      <td>45000000.0</td>\n",
              "      <td>-795.139648</td>\n",
              "    </tr>\n",
              "    <tr>\n",
              "      <th>2</th>\n",
              "      <td>3</td>\n",
              "      <td>1584316800</td>\n",
              "      <td>16.0</td>\n",
              "      <td>6000000.0</td>\n",
              "      <td>-1064.330078</td>\n",
              "    </tr>\n",
              "    <tr>\n",
              "      <th>3</th>\n",
              "      <td>4</td>\n",
              "      <td>1584316800</td>\n",
              "      <td>591.0</td>\n",
              "      <td>79000000.0</td>\n",
              "      <td>-1064.330078</td>\n",
              "    </tr>\n",
              "    <tr>\n",
              "      <th>4</th>\n",
              "      <td>5</td>\n",
              "      <td>1584489600</td>\n",
              "      <td>20.0</td>\n",
              "      <td>4000000.0</td>\n",
              "      <td>-1340.020020</td>\n",
              "    </tr>\n",
              "    <tr>\n",
              "      <th>...</th>\n",
              "      <td>...</td>\n",
              "      <td>...</td>\n",
              "      <td>...</td>\n",
              "      <td>...</td>\n",
              "      <td>...</td>\n",
              "    </tr>\n",
              "    <tr>\n",
              "      <th>998</th>\n",
              "      <td>1829</td>\n",
              "      <td>1719187200</td>\n",
              "      <td>1000.0</td>\n",
              "      <td>509000000.0</td>\n",
              "      <td>257.769531</td>\n",
              "    </tr>\n",
              "    <tr>\n",
              "      <th>999</th>\n",
              "      <td>1830</td>\n",
              "      <td>1719187200</td>\n",
              "      <td>1143.0</td>\n",
              "      <td>100000000.0</td>\n",
              "      <td>257.769531</td>\n",
              "    </tr>\n",
              "    <tr>\n",
              "      <th>1000</th>\n",
              "      <td>1836</td>\n",
              "      <td>1719360000</td>\n",
              "      <td>1059.0</td>\n",
              "      <td>574000000.0</td>\n",
              "      <td>242.679688</td>\n",
              "    </tr>\n",
              "    <tr>\n",
              "      <th>1001</th>\n",
              "      <td>1837</td>\n",
              "      <td>1719446400</td>\n",
              "      <td>500.0</td>\n",
              "      <td>105000000.0</td>\n",
              "      <td>270.879883</td>\n",
              "    </tr>\n",
              "    <tr>\n",
              "      <th>1002</th>\n",
              "      <td>1838</td>\n",
              "      <td>1719532800</td>\n",
              "      <td>606.0</td>\n",
              "      <td>77000000.0</td>\n",
              "      <td>364.179688</td>\n",
              "    </tr>\n",
              "  </tbody>\n",
              "</table>\n",
              "<p>1003 rows × 5 columns</p>\n",
              "</div>\n",
              "    <div class=\"colab-df-buttons\">\n",
              "\n",
              "  <div class=\"colab-df-container\">\n",
              "    <button class=\"colab-df-convert\" onclick=\"convertToInteractive('df-a7e516a9-8e62-4bc9-91c8-329328dbd542')\"\n",
              "            title=\"Convert this dataframe to an interactive table.\"\n",
              "            style=\"display:none;\">\n",
              "\n",
              "  <svg xmlns=\"http://www.w3.org/2000/svg\" height=\"24px\" viewBox=\"0 -960 960 960\">\n",
              "    <path d=\"M120-120v-720h720v720H120Zm60-500h600v-160H180v160Zm220 220h160v-160H400v160Zm0 220h160v-160H400v160ZM180-400h160v-160H180v160Zm440 0h160v-160H620v160ZM180-180h160v-160H180v160Zm440 0h160v-160H620v160Z\"/>\n",
              "  </svg>\n",
              "    </button>\n",
              "\n",
              "  <style>\n",
              "    .colab-df-container {\n",
              "      display:flex;\n",
              "      gap: 12px;\n",
              "    }\n",
              "\n",
              "    .colab-df-convert {\n",
              "      background-color: #E8F0FE;\n",
              "      border: none;\n",
              "      border-radius: 50%;\n",
              "      cursor: pointer;\n",
              "      display: none;\n",
              "      fill: #1967D2;\n",
              "      height: 32px;\n",
              "      padding: 0 0 0 0;\n",
              "      width: 32px;\n",
              "    }\n",
              "\n",
              "    .colab-df-convert:hover {\n",
              "      background-color: #E2EBFA;\n",
              "      box-shadow: 0px 1px 2px rgba(60, 64, 67, 0.3), 0px 1px 3px 1px rgba(60, 64, 67, 0.15);\n",
              "      fill: #174EA6;\n",
              "    }\n",
              "\n",
              "    .colab-df-buttons div {\n",
              "      margin-bottom: 4px;\n",
              "    }\n",
              "\n",
              "    [theme=dark] .colab-df-convert {\n",
              "      background-color: #3B4455;\n",
              "      fill: #D2E3FC;\n",
              "    }\n",
              "\n",
              "    [theme=dark] .colab-df-convert:hover {\n",
              "      background-color: #434B5C;\n",
              "      box-shadow: 0px 1px 3px 1px rgba(0, 0, 0, 0.15);\n",
              "      filter: drop-shadow(0px 1px 2px rgba(0, 0, 0, 0.3));\n",
              "      fill: #FFFFFF;\n",
              "    }\n",
              "  </style>\n",
              "\n",
              "    <script>\n",
              "      const buttonEl =\n",
              "        document.querySelector('#df-a7e516a9-8e62-4bc9-91c8-329328dbd542 button.colab-df-convert');\n",
              "      buttonEl.style.display =\n",
              "        google.colab.kernel.accessAllowed ? 'block' : 'none';\n",
              "\n",
              "      async function convertToInteractive(key) {\n",
              "        const element = document.querySelector('#df-a7e516a9-8e62-4bc9-91c8-329328dbd542');\n",
              "        const dataTable =\n",
              "          await google.colab.kernel.invokeFunction('convertToInteractive',\n",
              "                                                    [key], {});\n",
              "        if (!dataTable) return;\n",
              "\n",
              "        const docLinkHtml = 'Like what you see? Visit the ' +\n",
              "          '<a target=\"_blank\" href=https://colab.research.google.com/notebooks/data_table.ipynb>data table notebook</a>'\n",
              "          + ' to learn more about interactive tables.';\n",
              "        element.innerHTML = '';\n",
              "        dataTable['output_type'] = 'display_data';\n",
              "        await google.colab.output.renderOutput(dataTable, element);\n",
              "        const docLink = document.createElement('div');\n",
              "        docLink.innerHTML = docLinkHtml;\n",
              "        element.appendChild(docLink);\n",
              "      }\n",
              "    </script>\n",
              "  </div>\n",
              "\n",
              "\n",
              "<div id=\"df-5b59bdd1-12cf-4387-b155-58d589b073cb\">\n",
              "  <button class=\"colab-df-quickchart\" onclick=\"quickchart('df-5b59bdd1-12cf-4387-b155-58d589b073cb')\"\n",
              "            title=\"Suggest charts\"\n",
              "            style=\"display:none;\">\n",
              "\n",
              "<svg xmlns=\"http://www.w3.org/2000/svg\" height=\"24px\"viewBox=\"0 0 24 24\"\n",
              "     width=\"24px\">\n",
              "    <g>\n",
              "        <path d=\"M19 3H5c-1.1 0-2 .9-2 2v14c0 1.1.9 2 2 2h14c1.1 0 2-.9 2-2V5c0-1.1-.9-2-2-2zM9 17H7v-7h2v7zm4 0h-2V7h2v10zm4 0h-2v-4h2v4z\"/>\n",
              "    </g>\n",
              "</svg>\n",
              "  </button>\n",
              "\n",
              "<style>\n",
              "  .colab-df-quickchart {\n",
              "      --bg-color: #E8F0FE;\n",
              "      --fill-color: #1967D2;\n",
              "      --hover-bg-color: #E2EBFA;\n",
              "      --hover-fill-color: #174EA6;\n",
              "      --disabled-fill-color: #AAA;\n",
              "      --disabled-bg-color: #DDD;\n",
              "  }\n",
              "\n",
              "  [theme=dark] .colab-df-quickchart {\n",
              "      --bg-color: #3B4455;\n",
              "      --fill-color: #D2E3FC;\n",
              "      --hover-bg-color: #434B5C;\n",
              "      --hover-fill-color: #FFFFFF;\n",
              "      --disabled-bg-color: #3B4455;\n",
              "      --disabled-fill-color: #666;\n",
              "  }\n",
              "\n",
              "  .colab-df-quickchart {\n",
              "    background-color: var(--bg-color);\n",
              "    border: none;\n",
              "    border-radius: 50%;\n",
              "    cursor: pointer;\n",
              "    display: none;\n",
              "    fill: var(--fill-color);\n",
              "    height: 32px;\n",
              "    padding: 0;\n",
              "    width: 32px;\n",
              "  }\n",
              "\n",
              "  .colab-df-quickchart:hover {\n",
              "    background-color: var(--hover-bg-color);\n",
              "    box-shadow: 0 1px 2px rgba(60, 64, 67, 0.3), 0 1px 3px 1px rgba(60, 64, 67, 0.15);\n",
              "    fill: var(--button-hover-fill-color);\n",
              "  }\n",
              "\n",
              "  .colab-df-quickchart-complete:disabled,\n",
              "  .colab-df-quickchart-complete:disabled:hover {\n",
              "    background-color: var(--disabled-bg-color);\n",
              "    fill: var(--disabled-fill-color);\n",
              "    box-shadow: none;\n",
              "  }\n",
              "\n",
              "  .colab-df-spinner {\n",
              "    border: 2px solid var(--fill-color);\n",
              "    border-color: transparent;\n",
              "    border-bottom-color: var(--fill-color);\n",
              "    animation:\n",
              "      spin 1s steps(1) infinite;\n",
              "  }\n",
              "\n",
              "  @keyframes spin {\n",
              "    0% {\n",
              "      border-color: transparent;\n",
              "      border-bottom-color: var(--fill-color);\n",
              "      border-left-color: var(--fill-color);\n",
              "    }\n",
              "    20% {\n",
              "      border-color: transparent;\n",
              "      border-left-color: var(--fill-color);\n",
              "      border-top-color: var(--fill-color);\n",
              "    }\n",
              "    30% {\n",
              "      border-color: transparent;\n",
              "      border-left-color: var(--fill-color);\n",
              "      border-top-color: var(--fill-color);\n",
              "      border-right-color: var(--fill-color);\n",
              "    }\n",
              "    40% {\n",
              "      border-color: transparent;\n",
              "      border-right-color: var(--fill-color);\n",
              "      border-top-color: var(--fill-color);\n",
              "    }\n",
              "    60% {\n",
              "      border-color: transparent;\n",
              "      border-right-color: var(--fill-color);\n",
              "    }\n",
              "    80% {\n",
              "      border-color: transparent;\n",
              "      border-right-color: var(--fill-color);\n",
              "      border-bottom-color: var(--fill-color);\n",
              "    }\n",
              "    90% {\n",
              "      border-color: transparent;\n",
              "      border-bottom-color: var(--fill-color);\n",
              "    }\n",
              "  }\n",
              "</style>\n",
              "\n",
              "  <script>\n",
              "    async function quickchart(key) {\n",
              "      const quickchartButtonEl =\n",
              "        document.querySelector('#' + key + ' button');\n",
              "      quickchartButtonEl.disabled = true;  // To prevent multiple clicks.\n",
              "      quickchartButtonEl.classList.add('colab-df-spinner');\n",
              "      try {\n",
              "        const charts = await google.colab.kernel.invokeFunction(\n",
              "            'suggestCharts', [key], {});\n",
              "      } catch (error) {\n",
              "        console.error('Error during call to suggestCharts:', error);\n",
              "      }\n",
              "      quickchartButtonEl.classList.remove('colab-df-spinner');\n",
              "      quickchartButtonEl.classList.add('colab-df-quickchart-complete');\n",
              "    }\n",
              "    (() => {\n",
              "      let quickchartButtonEl =\n",
              "        document.querySelector('#df-5b59bdd1-12cf-4387-b155-58d589b073cb button');\n",
              "      quickchartButtonEl.style.display =\n",
              "        google.colab.kernel.accessAllowed ? 'block' : 'none';\n",
              "    })();\n",
              "  </script>\n",
              "</div>\n",
              "\n",
              "  <div id=\"id_638261fc-20ea-4dfe-8369-04cf6db5a4c7\">\n",
              "    <style>\n",
              "      .colab-df-generate {\n",
              "        background-color: #E8F0FE;\n",
              "        border: none;\n",
              "        border-radius: 50%;\n",
              "        cursor: pointer;\n",
              "        display: none;\n",
              "        fill: #1967D2;\n",
              "        height: 32px;\n",
              "        padding: 0 0 0 0;\n",
              "        width: 32px;\n",
              "      }\n",
              "\n",
              "      .colab-df-generate:hover {\n",
              "        background-color: #E2EBFA;\n",
              "        box-shadow: 0px 1px 2px rgba(60, 64, 67, 0.3), 0px 1px 3px 1px rgba(60, 64, 67, 0.15);\n",
              "        fill: #174EA6;\n",
              "      }\n",
              "\n",
              "      [theme=dark] .colab-df-generate {\n",
              "        background-color: #3B4455;\n",
              "        fill: #D2E3FC;\n",
              "      }\n",
              "\n",
              "      [theme=dark] .colab-df-generate:hover {\n",
              "        background-color: #434B5C;\n",
              "        box-shadow: 0px 1px 3px 1px rgba(0, 0, 0, 0.15);\n",
              "        filter: drop-shadow(0px 1px 2px rgba(0, 0, 0, 0.3));\n",
              "        fill: #FFFFFF;\n",
              "      }\n",
              "    </style>\n",
              "    <button class=\"colab-df-generate\" onclick=\"generateWithVariable('layoff_data')\"\n",
              "            title=\"Generate code using this dataframe.\"\n",
              "            style=\"display:none;\">\n",
              "\n",
              "  <svg xmlns=\"http://www.w3.org/2000/svg\" height=\"24px\"viewBox=\"0 0 24 24\"\n",
              "       width=\"24px\">\n",
              "    <path d=\"M7,19H8.4L18.45,9,17,7.55,7,17.6ZM5,21V16.75L18.45,3.32a2,2,0,0,1,2.83,0l1.4,1.43a1.91,1.91,0,0,1,.58,1.4,1.91,1.91,0,0,1-.58,1.4L9.25,21ZM18.45,9,17,7.55Zm-12,3A5.31,5.31,0,0,0,4.9,8.1,5.31,5.31,0,0,0,1,6.5,5.31,5.31,0,0,0,4.9,4.9,5.31,5.31,0,0,0,6.5,1,5.31,5.31,0,0,0,8.1,4.9,5.31,5.31,0,0,0,12,6.5,5.46,5.46,0,0,0,6.5,12Z\"/>\n",
              "  </svg>\n",
              "    </button>\n",
              "    <script>\n",
              "      (() => {\n",
              "      const buttonEl =\n",
              "        document.querySelector('#id_638261fc-20ea-4dfe-8369-04cf6db5a4c7 button.colab-df-generate');\n",
              "      buttonEl.style.display =\n",
              "        google.colab.kernel.accessAllowed ? 'block' : 'none';\n",
              "\n",
              "      buttonEl.onclick = () => {\n",
              "        google.colab.notebook.generateWithVariable('layoff_data');\n",
              "      }\n",
              "      })();\n",
              "    </script>\n",
              "  </div>\n",
              "\n",
              "    </div>\n",
              "  </div>\n"
            ],
            "application/vnd.google.colaboratory.intrinsic+json": {
              "type": "dataframe",
              "variable_name": "layoff_data",
              "summary": "{\n  \"name\": \"layoff_data\",\n  \"rows\": 1003,\n  \"fields\": [\n    {\n      \"column\": \"index\",\n      \"properties\": {\n        \"dtype\": \"number\",\n        \"std\": 493,\n        \"min\": 0,\n        \"max\": 1838,\n        \"num_unique_values\": 1003,\n        \"samples\": [\n          985,\n          991,\n          1336\n        ],\n        \"semantic_type\": \"\",\n        \"description\": \"\"\n      }\n    },\n    {\n      \"column\": \"Date_layoffs\",\n      \"properties\": {\n        \"dtype\": \"number\",\n        \"std\": 41329979,\n        \"min\": 1583971200,\n        \"max\": 1719532800,\n        \"num_unique_values\": 479,\n        \"samples\": [\n          1644278400,\n          1683244800,\n          1591056000\n        ],\n        \"semantic_type\": \"\",\n        \"description\": \"\"\n      }\n    },\n    {\n      \"column\": \"Company_Size_before_Layoffs\",\n      \"properties\": {\n        \"dtype\": \"number\",\n        \"std\": 26435.246501442023,\n        \"min\": 11.0,\n        \"max\": 400000.0,\n        \"num_unique_values\": 524,\n        \"samples\": [\n          7143.0,\n          17900.0,\n          800.0\n        ],\n        \"semantic_type\": \"\",\n        \"description\": \"\"\n      }\n    },\n    {\n      \"column\": \"Money_Raised_in__mil\",\n      \"properties\": {\n        \"dtype\": \"number\",\n        \"std\": 5921647389.296039,\n        \"min\": 1000000.0,\n        \"max\": 121900000000.0,\n        \"num_unique_values\": 439,\n        \"samples\": [\n          445000000.0,\n          64000000.0,\n          834000000.0\n        ],\n        \"semantic_type\": \"\",\n        \"description\": \"\"\n      }\n    },\n    {\n      \"column\": \"stock_delta\",\n      \"properties\": {\n        \"dtype\": \"number\",\n        \"std\": 1038.1119879707358,\n        \"min\": -2147.92041015625,\n        \"max\": 2615.919921875,\n        \"num_unique_values\": 460,\n        \"samples\": [\n          -1305.64013671875,\n          -430.77978515625,\n          -1318.72998046875\n        ],\n        \"semantic_type\": \"\",\n        \"description\": \"\"\n      }\n    }\n  ]\n}"
            }
          },
          "metadata": {}
        },
        {
          "output_type": "stream",
          "name": "stdout",
          "text": [
            "index                           0\n",
            "Date_layoffs                    0\n",
            "Company_Size_before_Layoffs     0\n",
            "Money_Raised_in__mil           39\n",
            "stock_delta                     0\n",
            "dtype: int64\n"
          ]
        }
      ]
    },
    {
      "cell_type": "code",
      "source": [
        "layoff_data[\"Money_Raised_in__mil\"].fillna(layoff_data[\"Money_Raised_in__mil\"].mean(), inplace=True)"
      ],
      "metadata": {
        "colab": {
          "base_uri": "https://localhost:8080/"
        },
        "id": "z5dKcb8nIC9j",
        "outputId": "9621cddc-e7a1-4c2b-f287-e5161153d15d"
      },
      "execution_count": 10,
      "outputs": [
        {
          "output_type": "stream",
          "name": "stderr",
          "text": [
            "<ipython-input-10-c85c003c7c05>:1: FutureWarning: A value is trying to be set on a copy of a DataFrame or Series through chained assignment using an inplace method.\n",
            "The behavior will change in pandas 3.0. This inplace method will never work because the intermediate object on which we are setting values always behaves as a copy.\n",
            "\n",
            "For example, when doing 'df[col].method(value, inplace=True)', try using 'df.method({col: value}, inplace=True)' or df[col] = df[col].method(value) instead, to perform the operation inplace on the original object.\n",
            "\n",
            "\n",
            "  layoff_data[\"Money_Raised_in__mil\"].fillna(layoff_data[\"Money_Raised_in__mil\"].mean(), inplace=True)\n"
          ]
        }
      ]
    },
    {
      "cell_type": "code",
      "source": [
        "\n",
        "\n",
        "layoff_data_df = pd.DataFrame(layoff_data)\n",
        "\n",
        "# Convert one-hot encoded arrays into DataFrames with appropriate column names\n",
        "industry_onehot_df = pd.DataFrame(industry_onehot, columns=[f'industry_{i}' for i in range(industry_onehot.shape[1])])\n",
        "stage_onehot_df = pd.DataFrame(stage_onehot, columns=[f'stage_{i}' for i in range(stage_onehot.shape[1])])\n",
        "region_onehot_df = pd.DataFrame(region_onehot, columns=[f'region_{i}' for i in range(region_onehot.shape[1])])\n",
        "\n",
        "# Convert Y (Percentage) to a DataFrame\n",
        "Y_df = pd.DataFrame(Y, columns=[\"Percentage\"])\n",
        "\n",
        "# Concatenate all data into a single DataFrame\n",
        "combined_data = pd.concat([layoff_data_df.reset_index(drop=True), industry_onehot_df, stage_onehot_df, region_onehot_df, Y_df], axis=1)\n",
        "\n",
        "# Save to CSV\n",
        "combined_data.to_csv(\"layoff_data_with_onehot.csv\", index=False, encoding='utf-8')\n",
        "\n",
        "print(\"Data saved to layoff_data_with_onehot.csv\")\n"
      ],
      "metadata": {
        "colab": {
          "base_uri": "https://localhost:8080/"
        },
        "id": "EU9eybrzXsZC",
        "outputId": "0953c702-8b81-449e-c054-6cb646d4ed5c"
      },
      "execution_count": 11,
      "outputs": [
        {
          "output_type": "stream",
          "name": "stdout",
          "text": [
            "Data saved to layoff_data_with_onehot.csv\n"
          ]
        }
      ]
    },
    {
      "cell_type": "code",
      "source": [
        "\n",
        "# Concatenate numerical features and one-hot encoded features, and set it as X\n",
        "X = np.hstack((layoff_data.values, industry_onehot, stage_onehot, region_onehot))"
      ],
      "metadata": {
        "id": "fyhzACx-H8tk"
      },
      "execution_count": 12,
      "outputs": []
    },
    {
      "cell_type": "code",
      "execution_count": 13,
      "metadata": {
        "colab": {
          "base_uri": "https://localhost:8080/"
        },
        "id": "W8EDPA8_NdmO",
        "outputId": "08acbea3-2134-4deb-eae5-96515002ee8c"
      },
      "outputs": [
        {
          "output_type": "stream",
          "name": "stdout",
          "text": [
            "LAYOFF DATA VALS: [ 0.00000000e+00  1.58397120e+09  5.00000000e+01  9.00000000e+07\n",
            " -9.50669922e+02]\n",
            "INDUSTRY ONEHOT: [0. 0. 0. 0. 0. 0. 0. 0. 0. 0. 0. 0. 0. 0. 0. 0. 0. 0. 0. 0. 0. 0. 0. 0.\n",
            " 0. 0. 0. 0. 0. 1. 0. 0. 0. 0. 0. 0. 0. 0.]\n",
            "STAGE ONEHOT: [0. 0. 0. 0. 0. 1. 0. 0. 0. 0. 0. 0. 0. 0.]\n",
            "REGION ONEHOT: [0. 0. 1. 0.]\n",
            "X: [ 0.00000000e+00  1.58397120e+09  5.00000000e+01  9.00000000e+07\n",
            " -9.50669922e+02  0.00000000e+00  0.00000000e+00  0.00000000e+00\n",
            "  0.00000000e+00  0.00000000e+00  0.00000000e+00  0.00000000e+00\n",
            "  0.00000000e+00  0.00000000e+00  0.00000000e+00  0.00000000e+00\n",
            "  0.00000000e+00  0.00000000e+00  0.00000000e+00  0.00000000e+00\n",
            "  0.00000000e+00  0.00000000e+00  0.00000000e+00  0.00000000e+00\n",
            "  0.00000000e+00  0.00000000e+00  0.00000000e+00  0.00000000e+00\n",
            "  0.00000000e+00  0.00000000e+00  0.00000000e+00  0.00000000e+00\n",
            "  0.00000000e+00  0.00000000e+00  1.00000000e+00  0.00000000e+00\n",
            "  0.00000000e+00  0.00000000e+00  0.00000000e+00  0.00000000e+00\n",
            "  0.00000000e+00  0.00000000e+00  0.00000000e+00  0.00000000e+00\n",
            "  0.00000000e+00  0.00000000e+00  0.00000000e+00  0.00000000e+00\n",
            "  1.00000000e+00  0.00000000e+00  0.00000000e+00  0.00000000e+00\n",
            "  0.00000000e+00  0.00000000e+00  0.00000000e+00  0.00000000e+00\n",
            "  0.00000000e+00  0.00000000e+00  0.00000000e+00  1.00000000e+00\n",
            "  0.00000000e+00]\n"
          ]
        }
      ],
      "source": [
        "# layoff_data.values, industry_onehot, stage_onehot, region_onehot\n",
        "print(\"LAYOFF DATA VALS:\", str(layoff_data.values[0]))\n",
        "print(\"INDUSTRY ONEHOT:\", str(industry_onehot[0]))\n",
        "print(\"STAGE ONEHOT:\", str(stage_onehot[0]))\n",
        "print(\"REGION ONEHOT:\", str(region_onehot[0]))\n",
        "\n",
        "print(\"X:\", str(X[0]))"
      ]
    },
    {
      "cell_type": "code",
      "execution_count": 14,
      "metadata": {
        "colab": {
          "base_uri": "https://localhost:8080/"
        },
        "id": "4k9tAAQUNdmO",
        "outputId": "8e1ac840-fa68-412f-c8b8-d4fe90e6e962"
      },
      "outputs": [
        {
          "output_type": "execute_result",
          "data": {
            "text/plain": [
              "((1003, 61), (1003,))"
            ]
          },
          "metadata": {},
          "execution_count": 14
        }
      ],
      "source": [
        "# Let's take a look at the shape of our features and our target\n",
        "X.shape, Y.shape"
      ]
    },
    {
      "cell_type": "code",
      "execution_count": 15,
      "metadata": {
        "colab": {
          "base_uri": "https://localhost:8080/"
        },
        "id": "-6yK-RQ3NdmP",
        "outputId": "5b3014ae-f889-4295-b103-2f1765f6a03a"
      },
      "outputs": [
        {
          "output_type": "stream",
          "name": "stdout",
          "text": [
            "Training set shapes: X_train = (802, 61) , Y_train = (802,)\n",
            "Testing set shapes: X_test = (201, 61) , Y_test = (201,)\n"
          ]
        }
      ],
      "source": [
        "# Assuming X and Y are already sorted by date (chronologically)\n",
        "\n",
        "# Define the split ratio (e.g., 80% for training, 20% for testing)\n",
        "train_size = int(0.8 * len(X))  # 80% of the data for training\n",
        "\n",
        "# Chronologically split the data\n",
        "X_train, X_test = X[:train_size], X[train_size:]\n",
        "y_train, y_test = Y[:train_size], Y[train_size:]\n",
        "\n",
        "# Print the shapes of the resulting sets\n",
        "print(\"Training set shapes: X_train =\", X_train.shape, \", Y_train =\", y_train.shape)\n",
        "print(\"Testing set shapes: X_test =\", X_test.shape, \", Y_test =\", y_test.shape)\n"
      ]
    },
    {
      "cell_type": "code",
      "execution_count": 16,
      "metadata": {
        "colab": {
          "base_uri": "https://localhost:8080/",
          "height": 458
        },
        "id": "eVTL6vUxNdmP",
        "outputId": "e568d3b9-1b25-4a8c-e90b-e797eb74b184"
      },
      "outputs": [
        {
          "output_type": "execute_result",
          "data": {
            "text/plain": [
              "0        40.0\n",
              "1        10.0\n",
              "2       100.0\n",
              "3        22.0\n",
              "4        20.0\n",
              "        ...  \n",
              "998       3.0\n",
              "999      35.0\n",
              "1000     17.0\n",
              "1001      4.0\n",
              "1002     17.0\n",
              "Name: Percentage, Length: 1003, dtype: float64"
            ],
            "text/html": [
              "<div>\n",
              "<style scoped>\n",
              "    .dataframe tbody tr th:only-of-type {\n",
              "        vertical-align: middle;\n",
              "    }\n",
              "\n",
              "    .dataframe tbody tr th {\n",
              "        vertical-align: top;\n",
              "    }\n",
              "\n",
              "    .dataframe thead th {\n",
              "        text-align: right;\n",
              "    }\n",
              "</style>\n",
              "<table border=\"1\" class=\"dataframe\">\n",
              "  <thead>\n",
              "    <tr style=\"text-align: right;\">\n",
              "      <th></th>\n",
              "      <th>Percentage</th>\n",
              "    </tr>\n",
              "  </thead>\n",
              "  <tbody>\n",
              "    <tr>\n",
              "      <th>0</th>\n",
              "      <td>40.0</td>\n",
              "    </tr>\n",
              "    <tr>\n",
              "      <th>1</th>\n",
              "      <td>10.0</td>\n",
              "    </tr>\n",
              "    <tr>\n",
              "      <th>2</th>\n",
              "      <td>100.0</td>\n",
              "    </tr>\n",
              "    <tr>\n",
              "      <th>3</th>\n",
              "      <td>22.0</td>\n",
              "    </tr>\n",
              "    <tr>\n",
              "      <th>4</th>\n",
              "      <td>20.0</td>\n",
              "    </tr>\n",
              "    <tr>\n",
              "      <th>...</th>\n",
              "      <td>...</td>\n",
              "    </tr>\n",
              "    <tr>\n",
              "      <th>998</th>\n",
              "      <td>3.0</td>\n",
              "    </tr>\n",
              "    <tr>\n",
              "      <th>999</th>\n",
              "      <td>35.0</td>\n",
              "    </tr>\n",
              "    <tr>\n",
              "      <th>1000</th>\n",
              "      <td>17.0</td>\n",
              "    </tr>\n",
              "    <tr>\n",
              "      <th>1001</th>\n",
              "      <td>4.0</td>\n",
              "    </tr>\n",
              "    <tr>\n",
              "      <th>1002</th>\n",
              "      <td>17.0</td>\n",
              "    </tr>\n",
              "  </tbody>\n",
              "</table>\n",
              "<p>1003 rows × 1 columns</p>\n",
              "</div><br><label><b>dtype:</b> float64</label>"
            ]
          },
          "metadata": {},
          "execution_count": 16
        }
      ],
      "source": [
        "# Finally, let's take a look at our target!\n",
        "Y"
      ]
    },
    {
      "cell_type": "markdown",
      "metadata": {
        "id": "JOVaddYPNdmP"
      },
      "source": [
        "# Model 1: Basic Regression Models\n",
        "\n",
        "For our first model, we want to determine whether or not our prediction model performs well with basic regression models. If it does, then it is a matter of choosing the correct regression model to analyze the data! If not, this means that we may need to look into more complex models, such as neural networks or decision trees."
      ]
    },
    {
      "cell_type": "code",
      "execution_count": 17,
      "metadata": {
        "colab": {
          "base_uri": "https://localhost:8080/"
        },
        "id": "J8poW8f_NdmQ",
        "outputId": "14619753-f742-43b3-8093-95243d278462"
      },
      "outputs": [
        {
          "output_type": "stream",
          "name": "stdout",
          "text": [
            "MSE_train: 464.5621495144079\n",
            "MSE_test: 651.3433381307756\n"
          ]
        }
      ],
      "source": [
        "mse_arr = []\n",
        "linreg = LinearRegression()\n",
        "\n",
        "X_train_df, y_train_df = pd.DataFrame(np.array(X_train)), pd.DataFrame(np.array(y_train))\n",
        "\n",
        "linreg.fit(X_train_df, y_train_df)\n",
        "yhat_train, yhat_test = linreg.predict(X_train), linreg.predict(X_test)\n",
        "\n",
        "MSE_train, MSE_test = np.mean((y_train.values - yhat_train)**2), np.mean((y_test.values - yhat_test)**2)\n",
        "mse_arr.append((MSE_train, MSE_test))\n",
        "print(f\"MSE_train: {MSE_train}\\nMSE_test: {MSE_test}\")"
      ]
    },
    {
      "cell_type": "markdown",
      "metadata": {
        "id": "IMfDrE5ENdmQ"
      },
      "source": [
        "As we can see, while our Linear Regression model is not awful, it can certainly be a whole lot better. Looking into another form of regression models, Polynomial Regression, we can see how our error change as we add more degrees to our polynomial model"
      ]
    },
    {
      "cell_type": "code",
      "execution_count": 18,
      "metadata": {
        "colab": {
          "base_uri": "https://localhost:8080/"
        },
        "id": "1Vja0UEkNdmQ",
        "outputId": "8157b4a9-0d91-4492-c13a-f21138d1a804"
      },
      "outputs": [
        {
          "output_type": "stream",
          "name": "stdout",
          "text": [
            "Degree: 2\n",
            "    MSE_train: 513.8418175281098\n",
            "    MSE_test: 2595.4919428224102\n",
            "Degree: 3\n",
            "    MSE_train: 489.00602714310776\n",
            "    MSE_test: 1210.6010928457056\n"
          ]
        }
      ],
      "source": [
        "for k in range(2,4):\n",
        "    # Create kth degree polynomial\n",
        "    polyreg = PolynomialFeatures(k)\n",
        "\n",
        "    # Transform features to fit polynomial model\n",
        "    train_features = polyreg.fit_transform(X_train_df)\n",
        "    test_features = polyreg.fit_transform(X_test)\n",
        "\n",
        "    # Create polynomial regression\n",
        "    polyreg = LinearRegression()\n",
        "    polyreg.fit(train_features, y_train_df)\n",
        "\n",
        "    # Get training and testing predictions\n",
        "    yhat_train = polyreg.predict(train_features)\n",
        "    yhat_test = polyreg.predict(test_features)\n",
        "\n",
        "    # Display training and testing MSEs\n",
        "    MSE_train = np.mean((y_train.values - yhat_train) ** 2)\n",
        "    MSE_test = np.mean((y_test.values - yhat_test) ** 2)\n",
        "\n",
        "    mse_arr.append((MSE_train, MSE_test))\n",
        "    print(f'Degree: {k}\\n    MSE_train: {MSE_train}\\n    MSE_test: {MSE_test}')"
      ]
    },
    {
      "cell_type": "markdown",
      "metadata": {
        "id": "K2czBN0iNdmQ"
      },
      "source": [
        "If we graph our data, we can then see how jagged our error measures are for our training and testing data, and how our model may be underfitting due to the difference in complexity between the model and our data."
      ]
    },
    {
      "cell_type": "code",
      "execution_count": 19,
      "metadata": {
        "colab": {
          "base_uri": "https://localhost:8080/",
          "height": 472
        },
        "id": "k0rabTzpNdmQ",
        "outputId": "d127d02a-83ee-4341-b14e-afb2187a2f6d"
      },
      "outputs": [
        {
          "output_type": "display_data",
          "data": {
            "text/plain": [
              "<Figure size 640x480 with 1 Axes>"
            ],
            "image/png": "[encoded data removed]"
          },
          "metadata": {}
        }
      ],
      "source": [
        "mse_train = [pair[0] for pair in mse_arr]\n",
        "mse_test = [pair[1] for pair in mse_arr]\n",
        "\n",
        "# Plot a graph of the training and testing MSE of the model over time\n",
        "degrees = range(1, len(mse_arr) + 1)\n",
        "plt.plot(degrees, mse_train, label='Training MSE')\n",
        "plt.plot(degrees, mse_test, label='Testing MSE')\n",
        "plt.xlabel('Polynomial Degree')\n",
        "plt.ylabel('MSE')\n",
        "plt.title('Polynomial Regression Training and Testing MSE')\n",
        "plt.legend()\n",
        "plt.show()"
      ]
    },
    {
      "cell_type": "markdown",
      "metadata": {
        "id": "4v8kr6D3NdmQ"
      },
      "source": [
        "Finally, we can look at a special regression model called Automatic Relevance Determination Regression. The main premise of this method is that it, similar to Linear Regression, fits a line to the data and determines feature relevance by shrinking irrelevant features."
      ]
    },
    {
      "cell_type": "code",
      "execution_count": 20,
      "metadata": {
        "colab": {
          "base_uri": "https://localhost:8080/"
        },
        "id": "gP2FVtfUNdmR",
        "outputId": "e08c93ff-ced7-4d8b-8cf1-9b9bee9946dd"
      },
      "outputs": [
        {
          "output_type": "stream",
          "name": "stdout",
          "text": [
            "Training Mean Squared Error: 374.11491016846907\n",
            "Testing Mean Squared Error: 554.8460415566956\n"
          ]
        },
        {
          "output_type": "stream",
          "name": "stderr",
          "text": [
            "/usr/local/lib/python3.10/dist-packages/sklearn/utils/validation.py:1339: DataConversionWarning: A column-vector y was passed when a 1d array was expected. Please change the shape of y to (n_samples, ), for example using ravel().\n",
            "  y = column_or_1d(y, warn=True)\n"
          ]
        }
      ],
      "source": [
        "ard = ARDRegression().fit(X_train, y_train_df)\n",
        "yhat_train, yhat_test = ard.predict(X_train), ard.predict(X_test)\n",
        "\n",
        "MSE_train, MSE_test = np.mean((y_train.values - yhat_train)**2), np.mean((y_test.values - yhat_test)**2)\n",
        "\n",
        "print(f'Training Mean Squared Error: {MSE_train}\\nTesting Mean Squared Error: {MSE_test}')"
      ]
    },
    {
      "cell_type": "markdown",
      "metadata": {
        "id": "s0Ght61KNdmR"
      },
      "source": [
        "### Model 1: Analysis/Conclusion\n",
        "\n",
        "From these models, it can be seen that while they are able to fit the data to some degree, they simply do not fit the data well enough to call it a day. Each of these models have their shortcomings when it comes to predicting training or testing data, or even both.\n",
        "\n",
        "Thus, it would make sense that we would need a model that either illustrates the level of complexity of the model effectively or is specialized in analyzing time series data. For that, we turn to our next two models: a Neural Network and a RandomForestRegressor."
      ]
    },
    {
      "cell_type": "markdown",
      "metadata": {
        "id": "WT6h54f4NdmR"
      },
      "source": [
        "# Model 2: Neural Network"
      ]
    },
    {
      "cell_type": "markdown",
      "metadata": {
        "id": "ngKWtN2LNdmR"
      },
      "source": [
        "Next, we will be looking at the neural network architecture and if it may perform effectively in predicting the layoff percentages of companies. We will first try to evaluate the data with a manually created ANN, then move on towards an ANN in which the hyperparameters are modified according to the data to minimize the loss."
      ]
    },
    {
      "cell_type": "code",
      "execution_count": 21,
      "metadata": {
        "id": "2UmpKxtyNdmR",
        "colab": {
          "base_uri": "https://localhost:8080/"
        },
        "outputId": "6eeb672c-a3a1-4f87-8b21-bb49ea0afa80"
      },
      "outputs": [
        {
          "output_type": "stream",
          "name": "stderr",
          "text": [
            "/usr/local/lib/python3.10/dist-packages/keras/src/layers/core/dense.py:87: UserWarning: Do not pass an `input_shape`/`input_dim` argument to a layer. When using Sequential models, prefer using an `Input(shape)` object as the first layer in the model instead.\n",
            "  super().__init__(activity_regularizer=activity_regularizer, **kwargs)\n"
          ]
        }
      ],
      "source": [
        "def build_nn():\n",
        "    '''\n",
        "    Build an Artificial Neural Network model composed of an input layer of 12 nodes with input_dim=51, an output layer of 1\n",
        "    node, and 3 hidden layers of 12 nodes each, with each layer having a sigmoid activation function applied to it.\n",
        "\n",
        "    Additionally, compile the model, setting the optimizer to be SGD with an LR of 0.1, measuring the loss with MSE and calculating\n",
        "    the MSE metric.\n",
        "\n",
        "    @type model: keras_Sequential() object\n",
        "    @returns model: a built and compiled Artificial Neural Network model with the given configuration\n",
        "    '''\n",
        "    model = Sequential([\n",
        "        Dense(12, activation='sigmoid', input_dim=61),\n",
        "        Dense(12, activation='sigmoid'),\n",
        "        Dense(12, activation='sigmoid'),\n",
        "        Dense(12, activation='sigmoid'),\n",
        "        Dense(1, activation='sigmoid'),\n",
        "    ])\n",
        "    model.compile(optimizer=SGD(learning_rate=0.1), loss='mse', metrics=['mse'])\n",
        "    return model\n",
        "\n",
        "def buildHPmodel(hp):\n",
        "  '''\n",
        "  Setup a hyperparameter model that enables us to choose the best to predict our target percentage of employees laid off at a company.\n",
        "\n",
        "  @type hp: keras_tuner_HyperParameters object\n",
        "  @param hp: the HyperParameters object that enables us to change our model's hyperparameters\n",
        "\n",
        "  @type model: keras_Sequential() object\n",
        "  @returns model: a fully configured Hyperparameter model that enables a user to modify an ANN's hyperparameters to their data\n",
        "  '''\n",
        "  model= Sequential([\n",
        "      Dense(12, activation = 'sigmoid', input_dim = 61),\n",
        "      Dense(units=hp.Int(\"units1\", min_value=3, max_value=24, step=5),activation=hp.Choice(\"acttype\", [\"sigmoid\", \"relu\", \"softmax\"])),\n",
        "      Dense(units=hp.Int(\"units1\", min_value=3, max_value=24, step=5),activation=hp.Choice(\"acttype\", [\"sigmoid\", \"relu\", \"softmax\"])),\n",
        "      Dense(units=hp.Int(\"units1\", min_value=3, max_value=24, step=5),activation=hp.Choice(\"acttype\", [\"sigmoid\", \"relu\", \"softmax\"])),\n",
        "      Dense(units=1,activation=hp.Choice(\"acttype\", [\"sigmoid\", \"relu\", \"softmax\"])),\n",
        "])\n",
        "  learning_rate = hp.Float(\"lr\", min_value=0.05, max_value=0.3, sampling=\"log\")\n",
        "  model.compile(optimizer='adam', loss='mean_squared_error', metrics=['mse'])\n",
        "  return model\n",
        "\n",
        "# This is a tuner that we will be using to perform hyperparameter tuning on the second NN model that we use!\n",
        "tuner = keras_tuner.GridSearch(\n",
        "    hypermodel=buildHPmodel,\n",
        "    objective=\"val_loss\",\n",
        "    directory=\"tunerStore\",\n",
        "    project_name=\"tunerInstance5\",\n",
        "    max_trials=50,\n",
        "    seed=12,\n",
        "    executions_per_trial=1,\n",
        "    tune_new_entries=True,\n",
        "    allow_new_entries=True,\n",
        "    max_consecutive_failed_trials=3\n",
        ")"
      ]
    },
    {
      "cell_type": "markdown",
      "metadata": {
        "id": "TKoGAtGXNdmR"
      },
      "source": [
        "Now that we have our ANN and tuner definitions set, we can perform a similar process to that of Model 1 in where we will fit the training data to the model, and see its error:"
      ]
    },
    {
      "cell_type": "code",
      "execution_count": 22,
      "metadata": {
        "colab": {
          "base_uri": "https://localhost:8080/"
        },
        "id": "e_nUzF3GNdmS",
        "outputId": "94ac53ef-71cc-4032-a442-a8ae0a4036eb"
      },
      "outputs": [
        {
          "output_type": "stream",
          "name": "stderr",
          "text": [
            "/usr/local/lib/python3.10/dist-packages/keras/src/layers/core/dense.py:87: UserWarning: Do not pass an `input_shape`/`input_dim` argument to a layer. When using Sequential models, prefer using an `Input(shape)` object as the first layer in the model instead.\n",
            "  super().__init__(activity_regularizer=activity_regularizer, **kwargs)\n"
          ]
        },
        {
          "output_type": "stream",
          "name": "stdout",
          "text": [
            "Training Mean Squared Error: 761.6451397861842\n",
            "Testing Mean Squared Error: 980.9951061763611\n"
          ]
        }
      ],
      "source": [
        "# Let us try out our first neural network to see how well in performs in our predictive task!\n",
        "nn_regressor = KerasRegressor(model=build_nn, epochs=100, batch_size=5, verbose=0)\n",
        "hist = nn_regressor.fit(X_train, y_train)\n",
        "predictions_train, predictions_test = nn_regressor.predict(X_train), nn_regressor.predict(X_test)\n",
        "\n",
        "print('Training Mean Squared Error:', mean_squared_error(predictions_train, y_train))\n",
        "print('Testing Mean Squared Error:', mean_squared_error(predictions_test, y_test))"
      ]
    },
    {
      "cell_type": "markdown",
      "metadata": {
        "id": "sMGJPobGNdmS"
      },
      "source": [
        "However, we can improve the model a step further through hyperparameter tuning, which is the practice of changing model hyperparameters, such as the activation functions, number of units per layer, the learning rate, and other factors associated with the neural network architecture, in order to converge to the optimal setup for the problem at hand.\n",
        "\n",
        "We will be using the GridSearch technique taught to us within the course to search for a specific model configuration that gives us the lowest error."
      ]
    },
    {
      "cell_type": "code",
      "execution_count": 23,
      "metadata": {
        "colab": {
          "base_uri": "https://localhost:8080/"
        },
        "id": "2_qKis5ENdmS",
        "outputId": "d30bdf24-1808-46bf-f1d4-d6375cc92f91"
      },
      "outputs": [
        {
          "output_type": "stream",
          "name": "stdout",
          "text": [
            "Trial 50 Complete [00h 00m 06s]\n",
            "val_loss: 181.52809143066406\n",
            "\n",
            "Best val_loss So Far: 174.8627471923828\n",
            "Total elapsed time: 00h 05m 03s\n"
          ]
        }
      ],
      "source": [
        "# Assuming X and Y are already sorted in chronological order\n",
        "n = len(X)  # Total number of data points\n",
        "\n",
        "# Split sizes\n",
        "train_size = int(0.7 * n)  # 80% for training\n",
        "val_size = int(0.15 * n)   # 5% for validation\n",
        "test_size = n - train_size - val_size  # Remaining 15% for testing\n",
        "\n",
        "# Chronologically splitting the data\n",
        "X_train, y_train = X[:train_size], Y[:train_size]\n",
        "X_val, y_val = X[train_size:train_size + val_size], Y[train_size:train_size + val_size]\n",
        "X_test, y_test = X[train_size + val_size:], Y[train_size + val_size:]\n",
        "\n",
        "# Converting to numpy arrays if needed\n",
        "X_train_np = np.array(X_train)\n",
        "y_train_np = np.array(y_train)\n",
        "X_val_np = np.array(X_val)\n",
        "y_val_np = np.array(y_val)\n",
        "X_test_np = np.array(X_test)\n",
        "y_test_np = np.array(y_test)\n",
        "\n",
        "\n",
        "#load from tunerStore trial 48\n",
        "# tuner = keras.models.load_model('tunerStore/tunerInstance3')\n",
        "#why isnt this working? model = keras.models.load_model('tunerStore/tunerInstance3')\n",
        "\n",
        "\"\"\"TO RUN A NEW GRID SEARCH UNCOMMENT THE LINE BELOW\"\"\"\n",
        "tuner.search(X_train_np, y_train_np, epochs=10, validation_data=(X_val_np, y_val_np), batch_size=15)\n",
        "# tuner.save('tunerStore/tunerInstance3')"
      ]
    },
    {
      "cell_type": "code",
      "execution_count": 24,
      "metadata": {
        "colab": {
          "base_uri": "https://localhost:8080/"
        },
        "id": "3zPp40bqNdmS",
        "outputId": "69c0174c-4150-4958-9bf9-b9e50841e7a9"
      },
      "outputs": [
        {
          "output_type": "stream",
          "name": "stdout",
          "text": [
            "Results summary\n",
            "Results in tunerStore/tunerInstance5\n",
            "Showing 10 best trials\n",
            "Objective(name=\"val_loss\", direction=\"min\")\n",
            "\n",
            "Trial 11 summary\n",
            "Hyperparameters:\n",
            "units1: 3\n",
            "acttype: relu\n",
            "lr: 0.05\n",
            "Score: 174.8627471923828\n",
            "\n",
            "Trial 45 summary\n",
            "Hyperparameters:\n",
            "units1: 8\n",
            "acttype: relu\n",
            "lr: 0.11197938216997383\n",
            "Score: 174.86778259277344\n",
            "\n",
            "Trial 49 summary\n",
            "Hyperparameters:\n",
            "units1: 8\n",
            "acttype: relu\n",
            "lr: 0.13395323057981742\n",
            "Score: 181.52809143066406\n",
            "\n",
            "Trial 44 summary\n",
            "Hyperparameters:\n",
            "units1: 8\n",
            "acttype: relu\n",
            "lr: 0.05\n",
            "Score: 181.93080139160156\n",
            "\n",
            "Trial 48 summary\n",
            "Hyperparameters:\n",
            "units1: 8\n",
            "acttype: relu\n",
            "lr: 0.06541731153543581\n",
            "Score: 182.87098693847656\n",
            "\n",
            "Trial 15 summary\n",
            "Hyperparameters:\n",
            "units1: 3\n",
            "acttype: relu\n",
            "lr: 0.06541731153543581\n",
            "Score: 186.1381072998047\n",
            "\n",
            "Trial 18 summary\n",
            "Hyperparameters:\n",
            "units1: 3\n",
            "acttype: relu\n",
            "lr: 0.19168293127388178\n",
            "Score: 192.25021362304688\n",
            "\n",
            "Trial 22 summary\n",
            "Hyperparameters:\n",
            "units1: 3\n",
            "acttype: softmax\n",
            "lr: 0.05\n",
            "Score: 427.56298828125\n",
            "\n",
            "Trial 23 summary\n",
            "Hyperparameters:\n",
            "units1: 3\n",
            "acttype: softmax\n",
            "lr: 0.11197938216997383\n",
            "Score: 427.56298828125\n",
            "\n",
            "Trial 24 summary\n",
            "Hyperparameters:\n",
            "units1: 3\n",
            "acttype: softmax\n",
            "lr: 0.0936101501762388\n",
            "Score: 427.56298828125\n"
          ]
        }
      ],
      "source": [
        "# Now, let's see how many units, types of activations, and learning rate performs best!\n",
        "tuner.results_summary()"
      ]
    },
    {
      "cell_type": "code",
      "execution_count": 25,
      "metadata": {
        "colab": {
          "base_uri": "https://localhost:8080/",
          "height": 356
        },
        "id": "4YN-aycENdmS",
        "outputId": "202c891d-a467-4ccf-c4af-897239fdd05b"
      },
      "outputs": [
        {
          "output_type": "stream",
          "name": "stderr",
          "text": [
            "/usr/local/lib/python3.10/dist-packages/keras/src/saving/saving_lib.py:576: UserWarning: Skipping variable loading for optimizer 'adam', because it has 2 variables whereas the saved optimizer has 22 variables. \n",
            "  saveable.load_own_variables(weights_store.get(inner_path))\n"
          ]
        },
        {
          "output_type": "display_data",
          "data": {
            "text/plain": [
              "\u001b[1mModel: \"sequential\"\u001b[0m\n"
            ],
            "text/html": [
              "<pre style=\"white-space:pre;overflow-x:auto;line-height:normal;font-family:Menlo,'DejaVu Sans Mono',consolas,'Courier New',monospace\"><span style=\"font-weight: bold\">Model: \"sequential\"</span>\n",
              "</pre>\n"
            ]
          },
          "metadata": {}
        },
        {
          "output_type": "display_data",
          "data": {
            "text/plain": [
              "┏━━━━━━━━━━━━━━━━━━━━━━━━━━━━━━━━━━━━━━┳━━━━━━━━━━━━━━━━━━━━━━━━━━━━━┳━━━━━━━━━━━━━━━━━┓\n",
              "┃\u001b[1m \u001b[0m\u001b[1mLayer (type)                        \u001b[0m\u001b[1m \u001b[0m┃\u001b[1m \u001b[0m\u001b[1mOutput Shape               \u001b[0m\u001b[1m \u001b[0m┃\u001b[1m \u001b[0m\u001b[1m        Param #\u001b[0m\u001b[1m \u001b[0m┃\n",
              "┡━━━━━━━━━━━━━━━━━━━━━━━━━━━━━━━━━━━━━━╇━━━━━━━━━━━━━━━━━━━━━━━━━━━━━╇━━━━━━━━━━━━━━━━━┩\n",
              "│ dense (\u001b[38;5;33mDense\u001b[0m)                        │ (\u001b[38;5;45mNone\u001b[0m, \u001b[38;5;34m12\u001b[0m)                  │             \u001b[38;5;34m744\u001b[0m │\n",
              "├──────────────────────────────────────┼─────────────────────────────┼─────────────────┤\n",
              "│ dense_1 (\u001b[38;5;33mDense\u001b[0m)                      │ (\u001b[38;5;45mNone\u001b[0m, \u001b[38;5;34m3\u001b[0m)                   │              \u001b[38;5;34m39\u001b[0m │\n",
              "├──────────────────────────────────────┼─────────────────────────────┼─────────────────┤\n",
              "│ dense_2 (\u001b[38;5;33mDense\u001b[0m)                      │ (\u001b[38;5;45mNone\u001b[0m, \u001b[38;5;34m3\u001b[0m)                   │              \u001b[38;5;34m12\u001b[0m │\n",
              "├──────────────────────────────────────┼─────────────────────────────┼─────────────────┤\n",
              "│ dense_3 (\u001b[38;5;33mDense\u001b[0m)                      │ (\u001b[38;5;45mNone\u001b[0m, \u001b[38;5;34m3\u001b[0m)                   │              \u001b[38;5;34m12\u001b[0m │\n",
              "├──────────────────────────────────────┼─────────────────────────────┼─────────────────┤\n",
              "│ dense_4 (\u001b[38;5;33mDense\u001b[0m)                      │ (\u001b[38;5;45mNone\u001b[0m, \u001b[38;5;34m1\u001b[0m)                   │               \u001b[38;5;34m4\u001b[0m │\n",
              "└──────────────────────────────────────┴─────────────────────────────┴─────────────────┘\n"
            ],
            "text/html": [
              "<pre style=\"white-space:pre;overflow-x:auto;line-height:normal;font-family:Menlo,'DejaVu Sans Mono',consolas,'Courier New',monospace\">┏━━━━━━━━━━━━━━━━━━━━━━━━━━━━━━━━━━━━━━┳━━━━━━━━━━━━━━━━━━━━━━━━━━━━━┳━━━━━━━━━━━━━━━━━┓\n",
              "┃<span style=\"font-weight: bold\"> Layer (type)                         </span>┃<span style=\"font-weight: bold\"> Output Shape                </span>┃<span style=\"font-weight: bold\">         Param # </span>┃\n",
              "┡━━━━━━━━━━━━━━━━━━━━━━━━━━━━━━━━━━━━━━╇━━━━━━━━━━━━━━━━━━━━━━━━━━━━━╇━━━━━━━━━━━━━━━━━┩\n",
              "│ dense (<span style=\"color: #0087ff; text-decoration-color: #0087ff\">Dense</span>)                        │ (<span style=\"color: #00d7ff; text-decoration-color: #00d7ff\">None</span>, <span style=\"color: #00af00; text-decoration-color: #00af00\">12</span>)                  │             <span style=\"color: #00af00; text-decoration-color: #00af00\">744</span> │\n",
              "├──────────────────────────────────────┼─────────────────────────────┼─────────────────┤\n",
              "│ dense_1 (<span style=\"color: #0087ff; text-decoration-color: #0087ff\">Dense</span>)                      │ (<span style=\"color: #00d7ff; text-decoration-color: #00d7ff\">None</span>, <span style=\"color: #00af00; text-decoration-color: #00af00\">3</span>)                   │              <span style=\"color: #00af00; text-decoration-color: #00af00\">39</span> │\n",
              "├──────────────────────────────────────┼─────────────────────────────┼─────────────────┤\n",
              "│ dense_2 (<span style=\"color: #0087ff; text-decoration-color: #0087ff\">Dense</span>)                      │ (<span style=\"color: #00d7ff; text-decoration-color: #00d7ff\">None</span>, <span style=\"color: #00af00; text-decoration-color: #00af00\">3</span>)                   │              <span style=\"color: #00af00; text-decoration-color: #00af00\">12</span> │\n",
              "├──────────────────────────────────────┼─────────────────────────────┼─────────────────┤\n",
              "│ dense_3 (<span style=\"color: #0087ff; text-decoration-color: #0087ff\">Dense</span>)                      │ (<span style=\"color: #00d7ff; text-decoration-color: #00d7ff\">None</span>, <span style=\"color: #00af00; text-decoration-color: #00af00\">3</span>)                   │              <span style=\"color: #00af00; text-decoration-color: #00af00\">12</span> │\n",
              "├──────────────────────────────────────┼─────────────────────────────┼─────────────────┤\n",
              "│ dense_4 (<span style=\"color: #0087ff; text-decoration-color: #0087ff\">Dense</span>)                      │ (<span style=\"color: #00d7ff; text-decoration-color: #00d7ff\">None</span>, <span style=\"color: #00af00; text-decoration-color: #00af00\">1</span>)                   │               <span style=\"color: #00af00; text-decoration-color: #00af00\">4</span> │\n",
              "└──────────────────────────────────────┴─────────────────────────────┴─────────────────┘\n",
              "</pre>\n"
            ]
          },
          "metadata": {}
        },
        {
          "output_type": "display_data",
          "data": {
            "text/plain": [
              "\u001b[1m Total params: \u001b[0m\u001b[38;5;34m811\u001b[0m (3.17 KB)\n"
            ],
            "text/html": [
              "<pre style=\"white-space:pre;overflow-x:auto;line-height:normal;font-family:Menlo,'DejaVu Sans Mono',consolas,'Courier New',monospace\"><span style=\"font-weight: bold\"> Total params: </span><span style=\"color: #00af00; text-decoration-color: #00af00\">811</span> (3.17 KB)\n",
              "</pre>\n"
            ]
          },
          "metadata": {}
        },
        {
          "output_type": "display_data",
          "data": {
            "text/plain": [
              "\u001b[1m Trainable params: \u001b[0m\u001b[38;5;34m811\u001b[0m (3.17 KB)\n"
            ],
            "text/html": [
              "<pre style=\"white-space:pre;overflow-x:auto;line-height:normal;font-family:Menlo,'DejaVu Sans Mono',consolas,'Courier New',monospace\"><span style=\"font-weight: bold\"> Trainable params: </span><span style=\"color: #00af00; text-decoration-color: #00af00\">811</span> (3.17 KB)\n",
              "</pre>\n"
            ]
          },
          "metadata": {}
        },
        {
          "output_type": "display_data",
          "data": {
            "text/plain": [
              "\u001b[1m Non-trainable params: \u001b[0m\u001b[38;5;34m0\u001b[0m (0.00 B)\n"
            ],
            "text/html": [
              "<pre style=\"white-space:pre;overflow-x:auto;line-height:normal;font-family:Menlo,'DejaVu Sans Mono',consolas,'Courier New',monospace\"><span style=\"font-weight: bold\"> Non-trainable params: </span><span style=\"color: #00af00; text-decoration-color: #00af00\">0</span> (0.00 B)\n",
              "</pre>\n"
            ]
          },
          "metadata": {}
        }
      ],
      "source": [
        "# Now, let us look at the configuration of the best model that we have!\n",
        "models = tuner.get_best_models(num_models=3)\n",
        "models[0].summary()"
      ]
    },
    {
      "cell_type": "code",
      "execution_count": 26,
      "metadata": {
        "colab": {
          "base_uri": "https://localhost:8080/"
        },
        "id": "rrvIJX6NNdmS",
        "outputId": "1a7f335d-db97-463e-e63c-e5913d8451de"
      },
      "outputs": [
        {
          "output_type": "stream",
          "name": "stdout",
          "text": [
            "For our best model (Trial 13): \n",
            "\n",
            "\u001b[1m22/22\u001b[0m \u001b[32m━━━━━━━━━━━━━━━━━━━━\u001b[0m\u001b[37m\u001b[0m \u001b[1m0s\u001b[0m 4ms/step\n",
            "The MSE for the training data:  409.47067900333275\n",
            "\u001b[1m5/5\u001b[0m \u001b[32m━━━━━━━━━━━━━━━━━━━━\u001b[0m\u001b[37m\u001b[0m \u001b[1m0s\u001b[0m 2ms/step \n",
            "The MSE for the testing data:  738.9145182807118\n",
            "\u001b[1m5/5\u001b[0m \u001b[32m━━━━━━━━━━━━━━━━━━━━\u001b[0m\u001b[37m\u001b[0m \u001b[1m0s\u001b[0m 2ms/step \n",
            "The MSE for the validation data:  174.86274783358152\n",
            "\n",
            "\n",
            "For our second best model (Trial 47): \n",
            "\n",
            "\u001b[1m22/22\u001b[0m \u001b[32m━━━━━━━━━━━━━━━━━━━━\u001b[0m\u001b[37m\u001b[0m \u001b[1m0s\u001b[0m 5ms/step\n",
            "The MSE for the training data:  402.30117334120877\n",
            "\u001b[1m5/5\u001b[0m \u001b[32m━━━━━━━━━━━━━━━━━━━━\u001b[0m\u001b[37m\u001b[0m \u001b[1m0s\u001b[0m 2ms/step \n",
            "The MSE for the testing data:  756.4262859145077\n",
            "\u001b[1m5/5\u001b[0m \u001b[32m━━━━━━━━━━━━━━━━━━━━\u001b[0m\u001b[37m\u001b[0m \u001b[1m0s\u001b[0m 2ms/step \n",
            "The MSE for the validation data:  174.86777499091582\n",
            "\n",
            "\n",
            "For our third best model (Trial 44): \n",
            "\n",
            "\u001b[1m22/22\u001b[0m \u001b[32m━━━━━━━━━━━━━━━━━━━━\u001b[0m\u001b[37m\u001b[0m \u001b[1m0s\u001b[0m 5ms/step\n",
            "The MSE for the training data:  395.5826127176688\n",
            "\u001b[1m5/5\u001b[0m \u001b[32m━━━━━━━━━━━━━━━━━━━━\u001b[0m\u001b[37m\u001b[0m \u001b[1m0s\u001b[0m 2ms/step \n",
            "The MSE for the testing data:  709.7416648751795\n",
            "\u001b[1m5/5\u001b[0m \u001b[32m━━━━━━━━━━━━━━━━━━━━\u001b[0m\u001b[37m\u001b[0m \u001b[1m0s\u001b[0m 3ms/step \n",
            "The MSE for the validation data:  181.52809471655627\n"
          ]
        }
      ],
      "source": [
        "print(\"For our best model (Trial 13): \\n\")\n",
        "print(\"The MSE for the training data: \", mean_squared_error(y_train, models[0].predict(X_train)))\n",
        "print(\"The MSE for the testing data: \", mean_squared_error(y_test, models[0].predict(X_test)))\n",
        "print(\"The MSE for the validation data: \", mean_squared_error(y_val, models[0].predict(X_val_np)))\n",
        "print(\"\\n\")\n",
        "print(\"For our second best model (Trial 47): \\n\")\n",
        "print(\"The MSE for the training data: \", mean_squared_error(y_train, models[1].predict(X_train)))\n",
        "print(\"The MSE for the testing data: \", mean_squared_error(y_test, models[1].predict(X_test)))\n",
        "print(\"The MSE for the validation data: \", mean_squared_error(y_val, models[1].predict(X_val_np)))\n",
        "print(\"\\n\")\n",
        "print(\"For our third best model (Trial 44): \\n\")\n",
        "print(\"The MSE for the training data: \", mean_squared_error(y_train, models[2].predict(X_train)))\n",
        "print(\"The MSE for the testing data: \", mean_squared_error(y_test, models[2].predict(X_test)))\n",
        "print(\"The MSE for the validation data: \", mean_squared_error(y_val, models[2].predict(X_val_np)))\n"
      ]
    },
    {
      "cell_type": "markdown",
      "metadata": {
        "id": "-3HySsbnNdmT"
      },
      "source": [
        "## K-Fold Cross Validation: Combatting Overfitting/Underfitting\n",
        "Based on the results of the best model's MSE: the MSE for the training data:  407.6795840293022, the MSE for the testing data:  344.07788384916205, and the MSE for the validation data:  222.8351758414751. We can conclude that the model is not overfitting since the MSE for the training data is not lower than the testing data."
      ]
    },
    {
      "cell_type": "code",
      "execution_count": 27,
      "metadata": {
        "colab": {
          "base_uri": "https://localhost:8080/"
        },
        "id": "j6xPyjVRNdmT",
        "outputId": "f52eb562-400b-441a-952c-aec5d294b9ed"
      },
      "outputs": [
        {
          "output_type": "stream",
          "name": "stderr",
          "text": [
            "/usr/local/lib/python3.10/dist-packages/keras/src/layers/core/dense.py:87: UserWarning: Do not pass an `input_shape`/`input_dim` argument to a layer. When using Sequential models, prefer using an `Input(shape)` object as the first layer in the model instead.\n",
            "  super().__init__(activity_regularizer=activity_regularizer, **kwargs)\n",
            "/usr/local/lib/python3.10/dist-packages/keras/src/layers/core/dense.py:87: UserWarning: Do not pass an `input_shape`/`input_dim` argument to a layer. When using Sequential models, prefer using an `Input(shape)` object as the first layer in the model instead.\n",
            "  super().__init__(activity_regularizer=activity_regularizer, **kwargs)\n"
          ]
        },
        {
          "output_type": "stream",
          "name": "stdout",
          "text": [
            "Fold 1 MSE for training: 825.1743\n",
            "Fold 1 MSE for testing: 598.5778\n"
          ]
        },
        {
          "output_type": "stream",
          "name": "stderr",
          "text": [
            "/usr/local/lib/python3.10/dist-packages/keras/src/layers/core/dense.py:87: UserWarning: Do not pass an `input_shape`/`input_dim` argument to a layer. When using Sequential models, prefer using an `Input(shape)` object as the first layer in the model instead.\n",
            "  super().__init__(activity_regularizer=activity_regularizer, **kwargs)\n",
            "/usr/local/lib/python3.10/dist-packages/keras/src/layers/core/dense.py:87: UserWarning: Do not pass an `input_shape`/`input_dim` argument to a layer. When using Sequential models, prefer using an `Input(shape)` object as the first layer in the model instead.\n",
            "  super().__init__(activity_regularizer=activity_regularizer, **kwargs)\n"
          ]
        },
        {
          "output_type": "stream",
          "name": "stdout",
          "text": [
            "Fold 2 MSE for training: 817.3185\n",
            "Fold 2 MSE for testing: 668.3945\n"
          ]
        },
        {
          "output_type": "stream",
          "name": "stderr",
          "text": [
            "/usr/local/lib/python3.10/dist-packages/keras/src/layers/core/dense.py:87: UserWarning: Do not pass an `input_shape`/`input_dim` argument to a layer. When using Sequential models, prefer using an `Input(shape)` object as the first layer in the model instead.\n",
            "  super().__init__(activity_regularizer=activity_regularizer, **kwargs)\n",
            "/usr/local/lib/python3.10/dist-packages/keras/src/layers/core/dense.py:87: UserWarning: Do not pass an `input_shape`/`input_dim` argument to a layer. When using Sequential models, prefer using an `Input(shape)` object as the first layer in the model instead.\n",
            "  super().__init__(activity_regularizer=activity_regularizer, **kwargs)\n"
          ]
        },
        {
          "output_type": "stream",
          "name": "stdout",
          "text": [
            "Fold 3 MSE for training: 850.3915\n",
            "Fold 3 MSE for testing: 367.6656\n"
          ]
        },
        {
          "output_type": "stream",
          "name": "stderr",
          "text": [
            "/usr/local/lib/python3.10/dist-packages/keras/src/layers/core/dense.py:87: UserWarning: Do not pass an `input_shape`/`input_dim` argument to a layer. When using Sequential models, prefer using an `Input(shape)` object as the first layer in the model instead.\n",
            "  super().__init__(activity_regularizer=activity_regularizer, **kwargs)\n",
            "/usr/local/lib/python3.10/dist-packages/keras/src/layers/core/dense.py:87: UserWarning: Do not pass an `input_shape`/`input_dim` argument to a layer. When using Sequential models, prefer using an `Input(shape)` object as the first layer in the model instead.\n",
            "  super().__init__(activity_regularizer=activity_regularizer, **kwargs)\n"
          ]
        },
        {
          "output_type": "stream",
          "name": "stdout",
          "text": [
            "Fold 4 MSE for training: 793.2959\n",
            "Fold 4 MSE for testing: 883.1573\n"
          ]
        },
        {
          "output_type": "stream",
          "name": "stderr",
          "text": [
            "/usr/local/lib/python3.10/dist-packages/keras/src/layers/core/dense.py:87: UserWarning: Do not pass an `input_shape`/`input_dim` argument to a layer. When using Sequential models, prefer using an `Input(shape)` object as the first layer in the model instead.\n",
            "  super().__init__(activity_regularizer=activity_regularizer, **kwargs)\n",
            "/usr/local/lib/python3.10/dist-packages/keras/src/layers/core/dense.py:87: UserWarning: Do not pass an `input_shape`/`input_dim` argument to a layer. When using Sequential models, prefer using an `Input(shape)` object as the first layer in the model instead.\n",
            "  super().__init__(activity_regularizer=activity_regularizer, **kwargs)\n"
          ]
        },
        {
          "output_type": "stream",
          "name": "stdout",
          "text": [
            "Fold 5 MSE for training: 796.1361\n",
            "Fold 5 MSE for testing: 857.5145\n"
          ]
        },
        {
          "output_type": "stream",
          "name": "stderr",
          "text": [
            "/usr/local/lib/python3.10/dist-packages/keras/src/layers/core/dense.py:87: UserWarning: Do not pass an `input_shape`/`input_dim` argument to a layer. When using Sequential models, prefer using an `Input(shape)` object as the first layer in the model instead.\n",
            "  super().__init__(activity_regularizer=activity_regularizer, **kwargs)\n",
            "/usr/local/lib/python3.10/dist-packages/keras/src/layers/core/dense.py:87: UserWarning: Do not pass an `input_shape`/`input_dim` argument to a layer. When using Sequential models, prefer using an `Input(shape)` object as the first layer in the model instead.\n",
            "  super().__init__(activity_regularizer=activity_regularizer, **kwargs)\n"
          ]
        },
        {
          "output_type": "stream",
          "name": "stdout",
          "text": [
            "Fold 6 MSE for training: 812.9367\n",
            "Fold 6 MSE for testing: 705.8288\n"
          ]
        },
        {
          "output_type": "stream",
          "name": "stderr",
          "text": [
            "/usr/local/lib/python3.10/dist-packages/keras/src/layers/core/dense.py:87: UserWarning: Do not pass an `input_shape`/`input_dim` argument to a layer. When using Sequential models, prefer using an `Input(shape)` object as the first layer in the model instead.\n",
            "  super().__init__(activity_regularizer=activity_regularizer, **kwargs)\n",
            "/usr/local/lib/python3.10/dist-packages/keras/src/layers/core/dense.py:87: UserWarning: Do not pass an `input_shape`/`input_dim` argument to a layer. When using Sequential models, prefer using an `Input(shape)` object as the first layer in the model instead.\n",
            "  super().__init__(activity_regularizer=activity_regularizer, **kwargs)\n"
          ]
        },
        {
          "output_type": "stream",
          "name": "stdout",
          "text": [
            "Fold 7 MSE for training: 702.0665\n",
            "Fold 7 MSE for testing: 1706.8288\n"
          ]
        },
        {
          "output_type": "stream",
          "name": "stderr",
          "text": [
            "/usr/local/lib/python3.10/dist-packages/keras/src/layers/core/dense.py:87: UserWarning: Do not pass an `input_shape`/`input_dim` argument to a layer. When using Sequential models, prefer using an `Input(shape)` object as the first layer in the model instead.\n",
            "  super().__init__(activity_regularizer=activity_regularizer, **kwargs)\n",
            "/usr/local/lib/python3.10/dist-packages/keras/src/layers/core/dense.py:87: UserWarning: Do not pass an `input_shape`/`input_dim` argument to a layer. When using Sequential models, prefer using an `Input(shape)` object as the first layer in the model instead.\n",
            "  super().__init__(activity_regularizer=activity_regularizer, **kwargs)\n"
          ]
        },
        {
          "output_type": "stream",
          "name": "stdout",
          "text": [
            "Fold 8 MSE for training: 780.3901\n",
            "Fold 8 MSE for testing: 999.6787\n"
          ]
        },
        {
          "output_type": "stream",
          "name": "stderr",
          "text": [
            "/usr/local/lib/python3.10/dist-packages/keras/src/layers/core/dense.py:87: UserWarning: Do not pass an `input_shape`/`input_dim` argument to a layer. When using Sequential models, prefer using an `Input(shape)` object as the first layer in the model instead.\n",
            "  super().__init__(activity_regularizer=activity_regularizer, **kwargs)\n",
            "/usr/local/lib/python3.10/dist-packages/keras/src/layers/core/dense.py:87: UserWarning: Do not pass an `input_shape`/`input_dim` argument to a layer. When using Sequential models, prefer using an `Input(shape)` object as the first layer in the model instead.\n",
            "  super().__init__(activity_regularizer=activity_regularizer, **kwargs)\n"
          ]
        },
        {
          "output_type": "stream",
          "name": "stdout",
          "text": [
            "Fold 9 MSE for training: 809.0997\n",
            "Fold 9 MSE for testing: 740.4716\n"
          ]
        },
        {
          "output_type": "stream",
          "name": "stderr",
          "text": [
            "/usr/local/lib/python3.10/dist-packages/keras/src/layers/core/dense.py:87: UserWarning: Do not pass an `input_shape`/`input_dim` argument to a layer. When using Sequential models, prefer using an `Input(shape)` object as the first layer in the model instead.\n",
            "  super().__init__(activity_regularizer=activity_regularizer, **kwargs)\n",
            "/usr/local/lib/python3.10/dist-packages/keras/src/layers/core/dense.py:87: UserWarning: Do not pass an `input_shape`/`input_dim` argument to a layer. When using Sequential models, prefer using an `Input(shape)` object as the first layer in the model instead.\n",
            "  super().__init__(activity_regularizer=activity_regularizer, **kwargs)\n"
          ]
        },
        {
          "output_type": "stream",
          "name": "stdout",
          "text": [
            "Fold 10 MSE for training: 835.8152\n",
            "Fold 10 MSE for testing: 499.2689\n",
            "Average MSE for training: 802.2624\n",
            "Average MSE for testing: 802.7386\n"
          ]
        }
      ],
      "source": [
        "# Define the KFold parameters\n",
        "kfold = RepeatedKFold(n_splits=10, n_repeats=1, random_state=1)\n",
        "\n",
        "# Lists to store MSE scores for each fold\n",
        "mse_per_fold_training, mse_per_fold_test = list(), list()\n",
        "\n",
        "y_train_np = y_train.values\n",
        "y_test_np = y_test.values\n",
        "\n",
        "j = 0\n",
        "# KFold Cross Validation\n",
        "for train, test in kfold.split(X_train, y_train_np):\n",
        "    # Create and compile the model\n",
        "    model = build_nn()\n",
        "\n",
        "    # Fit the model\n",
        "    estimator = KerasRegressor(model=build_nn, epochs=50, batch_size=5, verbose=0)\n",
        "    results = estimator.fit(X_train[train], y_train_np[train])\n",
        "\n",
        "    # Predict and calculate MSE\n",
        "    predictions_train = results.predict(X_train[train])\n",
        "    predictions_test = results.predict(X_train[test])\n",
        "\n",
        "    mse_train = mean_squared_error(y_train_np[train], predictions_train)\n",
        "    mse_test = mean_squared_error(y_train_np[test], predictions_test)\n",
        "\n",
        "    # Print metrics for this fold\n",
        "    # print(f\"Fold Accuracy: {acc*100:.2f}%\")\n",
        "    print(f\"Fold {j+1} MSE for training: {mse_train:.4f}\")\n",
        "    print(f\"Fold {j+1} MSE for testing: {mse_test:.4f}\")\n",
        "\n",
        "\n",
        "    # Append to the lists\n",
        "    # acc_per_fold.append(acc * 100)\n",
        "    mse_per_fold_test.append(mse_test)\n",
        "    mse_per_fold_training.append(mse_train)\n",
        "    j += 1\n",
        "\n",
        "# Calculate and print average metrics\n",
        "print(f\"Average MSE for training: {np.mean(mse_per_fold_training):.4f}\")\n",
        "print(f\"Average MSE for testing: {np.mean(mse_per_fold_test):.4f}\")"
      ]
    },
    {
      "cell_type": "markdown",
      "metadata": {
        "id": "5JYfdUXSNdmT"
      },
      "source": [
        "# Model 3: Random Forest Regressor"
      ]
    },
    {
      "cell_type": "markdown",
      "metadata": {
        "id": "PcED86c6NdmT"
      },
      "source": [
        "Finally, we will be seeing if an ensemble-based method would work well for our data. Our model of choice is the Random Forest Regressor, which fits the data to a number of Decision Trees and averages out the results in hopes of a higher accuracy."
      ]
    },
    {
      "cell_type": "code",
      "execution_count": 28,
      "metadata": {
        "id": "n8A2q_77NdmU"
      },
      "outputs": [],
      "source": [
        "# Create a RandomForestRegressor model\n",
        "rf = RandomForestRegressor(random_state = 42, max_depth = 10, min_samples_split=10)\n",
        "\n",
        "# Fit the model to the training data\n",
        "rf.fit(X_train, y_train)\n",
        "\n",
        "# Try to predict the the training and testing targets given the fitted model\n",
        "rf_predictions_train = rf.predict(X_train)\n",
        "rf_predictions_test = rf.predict(X_test)\n",
        "\n",
        "# Store the MSE between the model's predictions and the ground truth\n",
        "rf_mse_train = mean_squared_error(rf_predictions_train, y_train)\n",
        "rf_mse_test = mean_squared_error(rf_predictions_test, y_test)"
      ]
    },
    {
      "cell_type": "code",
      "execution_count": 29,
      "metadata": {
        "colab": {
          "base_uri": "https://localhost:8080/"
        },
        "id": "Ii7bFpT3NdmZ",
        "outputId": "11c9a28e-eeb4-4ea2-8332-9f95b722237e"
      },
      "outputs": [
        {
          "output_type": "execute_result",
          "data": {
            "text/plain": [
              "(129.58842946798123, 528.9560581634337)"
            ]
          },
          "metadata": {},
          "execution_count": 29
        }
      ],
      "source": [
        "# Now, let's look at our training and testing MSE!\n",
        "rf_mse_train, rf_mse_test"
      ]
    },
    {
      "cell_type": "code",
      "execution_count": 30,
      "metadata": {
        "id": "OLMX88_zNdmZ"
      },
      "outputs": [],
      "source": [
        "n_estimators = [int(x) for x in np.linspace(start = 50, stop = 150, num = 10)]\n",
        "max_depth = [int(x) for x in np.linspace(10, 110, num = 11)]\n",
        "max_depth.append(None)\n",
        "min_samples_split = [2, 5, 10]"
      ]
    },
    {
      "cell_type": "code",
      "execution_count": 31,
      "metadata": {
        "id": "rzYQdNH4NdmZ"
      },
      "outputs": [],
      "source": [
        "# grid search!\n",
        "\n",
        "bestMSE = None\n",
        "bestEstimator = 0\n",
        "bestDepth = 0\n",
        "bestSamples = 0\n",
        "mses = []\n",
        "\n",
        "for estimator in n_estimators:\n",
        "    temp1 = []\n",
        "    for depth in max_depth:\n",
        "        temp2 = []\n",
        "        for samples_split in min_samples_split:\n",
        "            rf = RandomForestRegressor(n_estimators=estimator, max_depth=depth, min_samples_split=samples_split, random_state = 42)\n",
        "            rf.fit(X_train, y_train)\n",
        "            predictions_test = rf.predict(X_test)\n",
        "            mse_test = mean_squared_error(predictions_test, y_test)\n",
        "            temp2.append(mse_test)\n",
        "            if bestMSE is None or mse_test < bestMSE:\n",
        "                bestMSE = mse_test\n",
        "                bestEstimator = estimator\n",
        "                bestDepth = depth\n",
        "                bestSamples = samples_split\n",
        "        temp1.append(temp2)\n",
        "    mses.append(temp1)\n"
      ]
    },
    {
      "cell_type": "code",
      "execution_count": 32,
      "metadata": {
        "colab": {
          "base_uri": "https://localhost:8080/"
        },
        "id": "Dy-DA2fwNdmZ",
        "outputId": "c1d39bcf-a8d0-4f8b-a070-7aec3b22f22d"
      },
      "outputs": [
        {
          "output_type": "execute_result",
          "data": {
            "text/plain": [
              "(523.1997018340322, 138, 10, 10)"
            ]
          },
          "metadata": {},
          "execution_count": 32
        }
      ],
      "source": [
        "bestMSE, bestEstimator, bestDepth, bestSamples"
      ]
    },
    {
      "cell_type": "code",
      "execution_count": 33,
      "metadata": {
        "id": "omgfvNAbNdmZ"
      },
      "outputs": [],
      "source": [
        "best_rf = RandomForestRegressor(random_state = 42, max_depth = bestDepth, min_samples_split=bestSamples, n_estimators=bestEstimator)\n",
        "best_rf.fit(X_train, y_train)\n",
        "best_rf_predictions_train = best_rf.predict(X_train)\n",
        "best_rf_mse_test = bestMSE\n",
        "best_rf_mse_train = mean_squared_error(best_rf_predictions_train, y_train)"
      ]
    },
    {
      "cell_type": "code",
      "execution_count": 34,
      "metadata": {
        "colab": {
          "base_uri": "https://localhost:8080/"
        },
        "id": "8GIvDZFwNdma",
        "outputId": "e7bcf11c-4c69-461e-920e-5fc5cc8aca77"
      },
      "outputs": [
        {
          "output_type": "execute_result",
          "data": {
            "text/plain": [
              "(130.87727043440034, 523.1997018340322)"
            ]
          },
          "metadata": {},
          "execution_count": 34
        }
      ],
      "source": [
        "best_rf_mse_train, best_rf_mse_test"
      ]
    },
    {
      "cell_type": "code",
      "execution_count": 35,
      "metadata": {
        "colab": {
          "base_uri": "https://localhost:8080/"
        },
        "id": "Xy21G5nPNdma",
        "outputId": "86b059c7-cee0-48fd-ef23-d77cdc82c500"
      },
      "outputs": [
        {
          "output_type": "execute_result",
          "data": {
            "text/plain": [
              "array([8.44404645e-02, 6.30142789e-02, 4.50926079e-01, 1.05615504e-01,\n",
              "       7.79025396e-02, 4.48567026e-03, 0.00000000e+00, 1.51701114e-02,\n",
              "       1.27922756e-02, 1.88179614e-03, 3.02442214e-03, 1.28933867e-02,\n",
              "       0.00000000e+00, 0.00000000e+00, 3.48414115e-03, 3.67528969e-03,\n",
              "       2.04637876e-02, 0.00000000e+00, 1.77394779e-03, 8.42685192e-07,\n",
              "       1.43297330e-02, 0.00000000e+00, 0.00000000e+00, 9.94740897e-03,\n",
              "       0.00000000e+00, 1.15624519e-04, 1.02695478e-03, 1.26202996e-04,\n",
              "       2.83554883e-03, 6.08400994e-04, 0.00000000e+00, 5.56889580e-03,\n",
              "       4.35062034e-04, 1.30141497e-02, 9.34574086e-03, 1.24704929e-04,\n",
              "       1.00811101e-03, 0.00000000e+00, 1.31942898e-05, 1.81693405e-03,\n",
              "       3.97545844e-03, 1.35230813e-02, 0.00000000e+00, 2.58313078e-03,\n",
              "       2.91191601e-04, 5.28275857e-04, 1.07404264e-02, 1.10141791e-02,\n",
              "       3.92954287e-03, 5.83983016e-03, 2.23661038e-03, 3.22330548e-04,\n",
              "       3.97369419e-04, 6.70425927e-04, 4.16156754e-06, 2.52360991e-06,\n",
              "       5.75238096e-03, 3.72733416e-03, 1.54904912e-03, 3.12409457e-03,\n",
              "       7.92739879e-03])"
            ]
          },
          "metadata": {},
          "execution_count": 35
        }
      ],
      "source": [
        "importance = rf.feature_importances_\n",
        "importance"
      ]
    },
    {
      "cell_type": "code",
      "execution_count": 36,
      "metadata": {
        "id": "Xj6as2dbNdma"
      },
      "outputs": [],
      "source": [
        "date_layoffs_imp = importance[0]\n",
        "stock_delta_imp = importance[1]\n",
        "company_size_imp = importance[2]\n",
        "money_raised_imp = importance[3]\n",
        "industry_imp = sum([importance[i] for i in range(4, 33)])\n",
        "stage_imp = sum([importance[i] for i in range(33, 37)])\n",
        "region_imp = sum([importance[i] for i in range(37, 51)])"
      ]
    },
    {
      "cell_type": "code",
      "execution_count": 37,
      "metadata": {
        "id": "K0OxP9zbNdma"
      },
      "outputs": [],
      "source": [
        "importances = [date_layoffs_imp, stock_delta_imp, company_size_imp, money_raised_imp, industry_imp, stage_imp, region_imp]\n",
        "categories = ['Date Layoffs', 'Stock Delta', 'Company Size', 'Money Raised', 'Industry', 'Stage', 'Region']"
      ]
    },
    {
      "cell_type": "code",
      "execution_count": 38,
      "metadata": {
        "colab": {
          "base_uri": "https://localhost:8080/",
          "height": 649
        },
        "id": "Z_KEUUWpNdmb",
        "outputId": "1e59c16f-5253-4b67-f96b-73d6889d61e9"
      },
      "outputs": [
        {
          "output_type": "execute_result",
          "data": {
            "text/plain": [
              "([<matplotlib.patches.Wedge at 0x7e19ffbccc10>,\n",
              "  <matplotlib.patches.Wedge at 0x7e19ffbccb50>,\n",
              "  <matplotlib.patches.Wedge at 0x7e19ffbcd210>,\n",
              "  <matplotlib.patches.Wedge at 0x7e19ffbcd6f0>,\n",
              "  <matplotlib.patches.Wedge at 0x7e19ffbcdb70>,\n",
              "  <matplotlib.patches.Wedge at 0x7e19ffbcdff0>,\n",
              "  <matplotlib.patches.Wedge at 0x7e19ffbce470>],\n",
              " [Text(1.0596608897114927, 0.2951589382279455, 'Date Layoffs'),\n",
              "  Text(0.8078244109993685, 0.7466054654190013, 'Stock Delta'),\n",
              "  Text(-0.8107194056999499, 0.7434608565496372, 'Company Size'),\n",
              "  Text(-0.5489375143616311, -0.9532405810321307, 'Money Raised'),\n",
              "  Text(0.4652717279331014, -0.9967558473297994, 'Industry'),\n",
              "  Text(0.9956662816598432, -0.4675988190379249, 'Stage'),\n",
              "  Text(1.0818835429837934, -0.1988164968528379, 'Region')])"
            ]
          },
          "metadata": {},
          "execution_count": 38
        },
        {
          "output_type": "display_data",
          "data": {
            "text/plain": [
              "<Figure size 640x480 with 1 Axes>"
            ],
            "image/png": "[encoded data removed]"
          },
          "metadata": {}
        }
      ],
      "source": [
        "plt.pie(importances, labels=categories)"
      ]
    },
    {
      "cell_type": "markdown",
      "metadata": {
        "id": "KBPyX1J2Ndmb"
      },
      "source": [
        "Figure above shows importance of each feature in prediction"
      ]
    },
    {
      "cell_type": "code",
      "execution_count": 39,
      "metadata": {
        "colab": {
          "base_uri": "https://localhost:8080/",
          "height": 472
        },
        "id": "Uv2VVb_aNdmb",
        "outputId": "5cad0226-98f4-48f7-8b03-86bfb99c29a9"
      },
      "outputs": [
        {
          "output_type": "display_data",
          "data": {
            "text/plain": [
              "<Figure size 640x480 with 1 Axes>"
            ],
            "image/png": "[encoded data removed]"
          },
          "metadata": {}
        }
      ],
      "source": [
        "mses_vs_estimators = [x[max_depth.index(bestDepth)][min_samples_split.index(bestSamples)] for x in mses]\n",
        "plt.scatter(n_estimators, mses_vs_estimators)\n",
        "plt.xlabel(\"Number of estimators\")\n",
        "plt.ylabel(\"MSE\")\n",
        "plt.title(\"MSE vs n_estimators\")\n",
        "plt.show()"
      ]
    },
    {
      "cell_type": "markdown",
      "metadata": {
        "id": "6TF2r6tGNdmb"
      },
      "source": [
        "For constant depth and min number of samples, we can plot the MSE vs the number of estimators. Here, we set depth and min number of samples as the best values found by Grid Search. Clearly, we can see that there is an optimal number of estimators at `n_estimators = 94` where the MSE is minimized."
      ]
    },
    {
      "cell_type": "markdown",
      "source": [
        "# **LSTM Model**"
      ],
      "metadata": {
        "id": "jR8v0ZFJRSlH"
      }
    },
    {
      "cell_type": "code",
      "source": [
        "from tensorflow.keras.models import Sequential\n",
        "from tensorflow.keras.layers import LSTM, Dense, Dropout, BatchNormalization\n",
        "from tensorflow.keras.optimizers import Adam\n",
        "\n",
        "def build_lstm_model():\n",
        "    '''\n",
        "    Build a more complex LSTM model with stacked LSTM layers, dropout, and additional dense layers for better representation.\n",
        "    '''\n",
        "    model = Sequential([\n",
        "        # First LSTM Layer with 100 units, returns sequences for stacking\n",
        "        LSTM(100, activation='relu', input_shape=(None, 61), return_sequences=True),\n",
        "        Dropout(0.3),  # Add dropout to prevent overfitting\n",
        "\n",
        "        # Second LSTM Layer with 50 units, returns sequences for another layer\n",
        "        LSTM(50, activation='relu', return_sequences=True),\n",
        "        Dropout(0.3),\n",
        "\n",
        "        # Third LSTM Layer with 25 units, doesn't return sequences (last LSTM layer)\n",
        "        LSTM(25, activation='relu', return_sequences=False),\n",
        "        Dropout(0.3),\n",
        "\n",
        "        # First Dense Layer with 50 units\n",
        "        Dense(50, activation='relu'),\n",
        "        BatchNormalization(),  # Optional batch normalization for stable training\n",
        "\n",
        "        # Second Dense Layer with 25 units\n",
        "        Dense(25, activation='relu'),\n",
        "\n",
        "        # Output Dense Layer: a single output neuron without any activation (linear)\n",
        "        Dense(1, activation='linear'),\n",
        "    ])\n",
        "\n",
        "    # Compile the model with the Adam optimizer and the learning rate found in the hyperparameter tuning\n",
        "    model.compile(optimizer=Adam(learning_rate=0.001, clipvalue=1.0), loss='mean_squared_error', metrics=['mse'], run_eagerly=True)\n",
        "\n",
        "    return model\n",
        "\n",
        "# Example usage: create and compile the LSTM model\n",
        "lstm_model = build_lstm_model()\n",
        "lstm_model.summary()\n"
      ],
      "metadata": {
        "colab": {
          "base_uri": "https://localhost:8080/",
          "height": 540
        },
        "id": "VA8eveYnRWGb",
        "outputId": "1757b54b-e34c-4b5a-c59c-08fb3984fdfb"
      },
      "execution_count": 40,
      "outputs": [
        {
          "output_type": "stream",
          "name": "stderr",
          "text": [
            "/usr/local/lib/python3.10/dist-packages/keras/src/layers/rnn/rnn.py:204: UserWarning: Do not pass an `input_shape`/`input_dim` argument to a layer. When using Sequential models, prefer using an `Input(shape)` object as the first layer in the model instead.\n",
            "  super().__init__(**kwargs)\n"
          ]
        },
        {
          "output_type": "display_data",
          "data": {
            "text/plain": [
              "\u001b[1mModel: \"sequential_21\"\u001b[0m\n"
            ],
            "text/html": [
              "<pre style=\"white-space:pre;overflow-x:auto;line-height:normal;font-family:Menlo,'DejaVu Sans Mono',consolas,'Courier New',monospace\"><span style=\"font-weight: bold\">Model: \"sequential_21\"</span>\n",
              "</pre>\n"
            ]
          },
          "metadata": {}
        },
        {
          "output_type": "display_data",
          "data": {
            "text/plain": [
              "┏━━━━━━━━━━━━━━━━━━━━━━━━━━━━━━━━━━━━━━┳━━━━━━━━━━━━━━━━━━━━━━━━━━━━━┳━━━━━━━━━━━━━━━━━┓\n",
              "┃\u001b[1m \u001b[0m\u001b[1mLayer (type)                        \u001b[0m\u001b[1m \u001b[0m┃\u001b[1m \u001b[0m\u001b[1mOutput Shape               \u001b[0m\u001b[1m \u001b[0m┃\u001b[1m \u001b[0m\u001b[1m        Param #\u001b[0m\u001b[1m \u001b[0m┃\n",
              "┡━━━━━━━━━━━━━━━━━━━━━━━━━━━━━━━━━━━━━━╇━━━━━━━━━━━━━━━━━━━━━━━━━━━━━╇━━━━━━━━━━━━━━━━━┩\n",
              "│ lstm (\u001b[38;5;33mLSTM\u001b[0m)                          │ (\u001b[38;5;45mNone\u001b[0m, \u001b[38;5;45mNone\u001b[0m, \u001b[38;5;34m100\u001b[0m)           │          \u001b[38;5;34m64,800\u001b[0m │\n",
              "├──────────────────────────────────────┼─────────────────────────────┼─────────────────┤\n",
              "│ dropout (\u001b[38;5;33mDropout\u001b[0m)                    │ (\u001b[38;5;45mNone\u001b[0m, \u001b[38;5;45mNone\u001b[0m, \u001b[38;5;34m100\u001b[0m)           │               \u001b[38;5;34m0\u001b[0m │\n",
              "├──────────────────────────────────────┼─────────────────────────────┼─────────────────┤\n",
              "│ lstm_1 (\u001b[38;5;33mLSTM\u001b[0m)                        │ (\u001b[38;5;45mNone\u001b[0m, \u001b[38;5;45mNone\u001b[0m, \u001b[38;5;34m50\u001b[0m)            │          \u001b[38;5;34m30,200\u001b[0m │\n",
              "├──────────────────────────────────────┼─────────────────────────────┼─────────────────┤\n",
              "│ dropout_1 (\u001b[38;5;33mDropout\u001b[0m)                  │ (\u001b[38;5;45mNone\u001b[0m, \u001b[38;5;45mNone\u001b[0m, \u001b[38;5;34m50\u001b[0m)            │               \u001b[38;5;34m0\u001b[0m │\n",
              "├──────────────────────────────────────┼─────────────────────────────┼─────────────────┤\n",
              "│ lstm_2 (\u001b[38;5;33mLSTM\u001b[0m)                        │ (\u001b[38;5;45mNone\u001b[0m, \u001b[38;5;34m25\u001b[0m)                  │           \u001b[38;5;34m7,600\u001b[0m │\n",
              "├──────────────────────────────────────┼─────────────────────────────┼─────────────────┤\n",
              "│ dropout_2 (\u001b[38;5;33mDropout\u001b[0m)                  │ (\u001b[38;5;45mNone\u001b[0m, \u001b[38;5;34m25\u001b[0m)                  │               \u001b[38;5;34m0\u001b[0m │\n",
              "├──────────────────────────────────────┼─────────────────────────────┼─────────────────┤\n",
              "│ dense_105 (\u001b[38;5;33mDense\u001b[0m)                    │ (\u001b[38;5;45mNone\u001b[0m, \u001b[38;5;34m50\u001b[0m)                  │           \u001b[38;5;34m1,300\u001b[0m │\n",
              "├──────────────────────────────────────┼─────────────────────────────┼─────────────────┤\n",
              "│ batch_normalization                  │ (\u001b[38;5;45mNone\u001b[0m, \u001b[38;5;34m50\u001b[0m)                  │             \u001b[38;5;34m200\u001b[0m │\n",
              "│ (\u001b[38;5;33mBatchNormalization\u001b[0m)                 │                             │                 │\n",
              "├──────────────────────────────────────┼─────────────────────────────┼─────────────────┤\n",
              "│ dense_106 (\u001b[38;5;33mDense\u001b[0m)                    │ (\u001b[38;5;45mNone\u001b[0m, \u001b[38;5;34m25\u001b[0m)                  │           \u001b[38;5;34m1,275\u001b[0m │\n",
              "├──────────────────────────────────────┼─────────────────────────────┼─────────────────┤\n",
              "│ dense_107 (\u001b[38;5;33mDense\u001b[0m)                    │ (\u001b[38;5;45mNone\u001b[0m, \u001b[38;5;34m1\u001b[0m)                   │              \u001b[38;5;34m26\u001b[0m │\n",
              "└──────────────────────────────────────┴─────────────────────────────┴─────────────────┘\n"
            ],
            "text/html": [
              "<pre style=\"white-space:pre;overflow-x:auto;line-height:normal;font-family:Menlo,'DejaVu Sans Mono',consolas,'Courier New',monospace\">┏━━━━━━━━━━━━━━━━━━━━━━━━━━━━━━━━━━━━━━┳━━━━━━━━━━━━━━━━━━━━━━━━━━━━━┳━━━━━━━━━━━━━━━━━┓\n",
              "┃<span style=\"font-weight: bold\"> Layer (type)                         </span>┃<span style=\"font-weight: bold\"> Output Shape                </span>┃<span style=\"font-weight: bold\">         Param # </span>┃\n",
              "┡━━━━━━━━━━━━━━━━━━━━━━━━━━━━━━━━━━━━━━╇━━━━━━━━━━━━━━━━━━━━━━━━━━━━━╇━━━━━━━━━━━━━━━━━┩\n",
              "│ lstm (<span style=\"color: #0087ff; text-decoration-color: #0087ff\">LSTM</span>)                          │ (<span style=\"color: #00d7ff; text-decoration-color: #00d7ff\">None</span>, <span style=\"color: #00d7ff; text-decoration-color: #00d7ff\">None</span>, <span style=\"color: #00af00; text-decoration-color: #00af00\">100</span>)           │          <span style=\"color: #00af00; text-decoration-color: #00af00\">64,800</span> │\n",
              "├──────────────────────────────────────┼─────────────────────────────┼─────────────────┤\n",
              "│ dropout (<span style=\"color: #0087ff; text-decoration-color: #0087ff\">Dropout</span>)                    │ (<span style=\"color: #00d7ff; text-decoration-color: #00d7ff\">None</span>, <span style=\"color: #00d7ff; text-decoration-color: #00d7ff\">None</span>, <span style=\"color: #00af00; text-decoration-color: #00af00\">100</span>)           │               <span style=\"color: #00af00; text-decoration-color: #00af00\">0</span> │\n",
              "├──────────────────────────────────────┼─────────────────────────────┼─────────────────┤\n",
              "│ lstm_1 (<span style=\"color: #0087ff; text-decoration-color: #0087ff\">LSTM</span>)                        │ (<span style=\"color: #00d7ff; text-decoration-color: #00d7ff\">None</span>, <span style=\"color: #00d7ff; text-decoration-color: #00d7ff\">None</span>, <span style=\"color: #00af00; text-decoration-color: #00af00\">50</span>)            │          <span style=\"color: #00af00; text-decoration-color: #00af00\">30,200</span> │\n",
              "├──────────────────────────────────────┼─────────────────────────────┼─────────────────┤\n",
              "│ dropout_1 (<span style=\"color: #0087ff; text-decoration-color: #0087ff\">Dropout</span>)                  │ (<span style=\"color: #00d7ff; text-decoration-color: #00d7ff\">None</span>, <span style=\"color: #00d7ff; text-decoration-color: #00d7ff\">None</span>, <span style=\"color: #00af00; text-decoration-color: #00af00\">50</span>)            │               <span style=\"color: #00af00; text-decoration-color: #00af00\">0</span> │\n",
              "├──────────────────────────────────────┼─────────────────────────────┼─────────────────┤\n",
              "│ lstm_2 (<span style=\"color: #0087ff; text-decoration-color: #0087ff\">LSTM</span>)                        │ (<span style=\"color: #00d7ff; text-decoration-color: #00d7ff\">None</span>, <span style=\"color: #00af00; text-decoration-color: #00af00\">25</span>)                  │           <span style=\"color: #00af00; text-decoration-color: #00af00\">7,600</span> │\n",
              "├──────────────────────────────────────┼─────────────────────────────┼─────────────────┤\n",
              "│ dropout_2 (<span style=\"color: #0087ff; text-decoration-color: #0087ff\">Dropout</span>)                  │ (<span style=\"color: #00d7ff; text-decoration-color: #00d7ff\">None</span>, <span style=\"color: #00af00; text-decoration-color: #00af00\">25</span>)                  │               <span style=\"color: #00af00; text-decoration-color: #00af00\">0</span> │\n",
              "├──────────────────────────────────────┼─────────────────────────────┼─────────────────┤\n",
              "│ dense_105 (<span style=\"color: #0087ff; text-decoration-color: #0087ff\">Dense</span>)                    │ (<span style=\"color: #00d7ff; text-decoration-color: #00d7ff\">None</span>, <span style=\"color: #00af00; text-decoration-color: #00af00\">50</span>)                  │           <span style=\"color: #00af00; text-decoration-color: #00af00\">1,300</span> │\n",
              "├──────────────────────────────────────┼─────────────────────────────┼─────────────────┤\n",
              "│ batch_normalization                  │ (<span style=\"color: #00d7ff; text-decoration-color: #00d7ff\">None</span>, <span style=\"color: #00af00; text-decoration-color: #00af00\">50</span>)                  │             <span style=\"color: #00af00; text-decoration-color: #00af00\">200</span> │\n",
              "│ (<span style=\"color: #0087ff; text-decoration-color: #0087ff\">BatchNormalization</span>)                 │                             │                 │\n",
              "├──────────────────────────────────────┼─────────────────────────────┼─────────────────┤\n",
              "│ dense_106 (<span style=\"color: #0087ff; text-decoration-color: #0087ff\">Dense</span>)                    │ (<span style=\"color: #00d7ff; text-decoration-color: #00d7ff\">None</span>, <span style=\"color: #00af00; text-decoration-color: #00af00\">25</span>)                  │           <span style=\"color: #00af00; text-decoration-color: #00af00\">1,275</span> │\n",
              "├──────────────────────────────────────┼─────────────────────────────┼─────────────────┤\n",
              "│ dense_107 (<span style=\"color: #0087ff; text-decoration-color: #0087ff\">Dense</span>)                    │ (<span style=\"color: #00d7ff; text-decoration-color: #00d7ff\">None</span>, <span style=\"color: #00af00; text-decoration-color: #00af00\">1</span>)                   │              <span style=\"color: #00af00; text-decoration-color: #00af00\">26</span> │\n",
              "└──────────────────────────────────────┴─────────────────────────────┴─────────────────┘\n",
              "</pre>\n"
            ]
          },
          "metadata": {}
        },
        {
          "output_type": "display_data",
          "data": {
            "text/plain": [
              "\u001b[1m Total params: \u001b[0m\u001b[38;5;34m105,401\u001b[0m (411.72 KB)\n"
            ],
            "text/html": [
              "<pre style=\"white-space:pre;overflow-x:auto;line-height:normal;font-family:Menlo,'DejaVu Sans Mono',consolas,'Courier New',monospace\"><span style=\"font-weight: bold\"> Total params: </span><span style=\"color: #00af00; text-decoration-color: #00af00\">105,401</span> (411.72 KB)\n",
              "</pre>\n"
            ]
          },
          "metadata": {}
        },
        {
          "output_type": "display_data",
          "data": {
            "text/plain": [
              "\u001b[1m Trainable params: \u001b[0m\u001b[38;5;34m105,301\u001b[0m (411.33 KB)\n"
            ],
            "text/html": [
              "<pre style=\"white-space:pre;overflow-x:auto;line-height:normal;font-family:Menlo,'DejaVu Sans Mono',consolas,'Courier New',monospace\"><span style=\"font-weight: bold\"> Trainable params: </span><span style=\"color: #00af00; text-decoration-color: #00af00\">105,301</span> (411.33 KB)\n",
              "</pre>\n"
            ]
          },
          "metadata": {}
        },
        {
          "output_type": "display_data",
          "data": {
            "text/plain": [
              "\u001b[1m Non-trainable params: \u001b[0m\u001b[38;5;34m100\u001b[0m (400.00 B)\n"
            ],
            "text/html": [
              "<pre style=\"white-space:pre;overflow-x:auto;line-height:normal;font-family:Menlo,'DejaVu Sans Mono',consolas,'Courier New',monospace\"><span style=\"font-weight: bold\"> Non-trainable params: </span><span style=\"color: #00af00; text-decoration-color: #00af00\">100</span> (400.00 B)\n",
              "</pre>\n"
            ]
          },
          "metadata": {}
        }
      ]
    },
    {
      "cell_type": "code",
      "source": [
        "from sklearn.preprocessing import StandardScaler\n",
        "\n",
        "n = len(X)  # Total number of data points\n",
        "\n",
        "# Split sizes\n",
        "train_size = int(0.8 * n)  # 80% for training\n",
        "val_size = int(0.05 * n)   # 5% for validation\n",
        "test_size = n - train_size - val_size  # Remaining 15% for testing\n",
        "\n",
        "# Chronologically splitting the data\n",
        "X_train, y_train = X[:train_size], Y[:train_size]\n",
        "X_val, y_val = X[train_size:train_size + val_size], Y[train_size:train_size + val_size]\n",
        "X_test, y_test = X[train_size + val_size:], Y[train_size + val_size:]\n",
        "\n",
        "# Converting to numpy arrays if needed\n",
        "X_train_np = np.array(X_train)\n",
        "y_train_np = np.array(y_train)\n",
        "X_val_np = np.array(X_val)\n",
        "y_val_np = np.array(y_val)\n",
        "X_test_np = np.array(X_test)\n",
        "y_test_np = np.array(y_test)\n",
        "\n",
        "scaler = StandardScaler()\n",
        "X_train_np = scaler.fit_transform(X_train_np)\n",
        "X_val_np = scaler.transform(X_val_np)\n",
        "X_test_np = scaler.transform(X_test_np)\n",
        "\n",
        "X_train_lstm = np.expand_dims(X_train_np, axis=1)\n",
        "X_val_lstm = np.expand_dims(X_val_np, axis=1)\n",
        "X_test_lstm = np.expand_dims(X_test_np, axis=1)\n",
        "\n",
        "# Check the shape of the data\n",
        "print(\"X_train_lstm shape:\", X_train_lstm.shape)\n",
        "print(\"X_val_lstm shape:\", X_val_lstm.shape)\n",
        "print(\"X_test_lstm shape:\", X_test_lstm.shape)"
      ],
      "metadata": {
        "colab": {
          "base_uri": "https://localhost:8080/"
        },
        "id": "HYRlbRTIRlbj",
        "outputId": "794f5bc1-79dc-44ee-865d-ea96f31f8dad"
      },
      "execution_count": 41,
      "outputs": [
        {
          "output_type": "stream",
          "name": "stdout",
          "text": [
            "X_train_lstm shape: (802, 1, 61)\n",
            "X_val_lstm shape: (50, 1, 61)\n",
            "X_test_lstm shape: (151, 1, 61)\n"
          ]
        }
      ]
    },
    {
      "cell_type": "code",
      "source": [
        "import numpy as np\n",
        "from tensorflow.keras.callbacks import EarlyStopping\n",
        "from tensorflow.keras.models import Sequential\n",
        "from tensorflow.keras.layers import LSTM, Dense\n",
        "from tensorflow.keras.optimizers import Adam\n",
        "from tensorflow.keras.callbacks import LearningRateScheduler\n",
        "\n",
        "# Build the LSTM model\n",
        "lstm_model = build_lstm_model()\n",
        "\n",
        "def lr_schedule(epoch, lr):\n",
        "    if epoch % 10 == 0 and epoch != 0:\n",
        "        return lr * 0.1\n",
        "    return lr\n",
        "\n",
        "# Create the LearningRateScheduler callback\n",
        "lr_scheduler = LearningRateScheduler(lr_schedule, verbose=1)\n",
        "\n",
        "# Train the LSTM model\n",
        "history = lstm_model.fit(\n",
        "    X_train_lstm, y_train_np,\n",
        "    validation_data=(X_val_lstm, y_val_np),\n",
        "    epochs=30,\n",
        "    batch_size=16,\n",
        "    callbacks=[lr_scheduler]\n",
        "    )\n",
        "\n",
        "# Evaluate the model on the test set\n",
        "test_mse = lstm_model.evaluate(X_test_lstm, y_test_np)\n",
        "print(f\"Test MSE: {test_mse}\")\n",
        "\n",
        "# Optionally, make predictions on the test set\n",
        "y_pred = lstm_model.predict(X_test_lstm)\n",
        "y_pred_squeezed = np.squeeze(y_pred)\n",
        "# You can inspect the predictions versus actual values\n",
        "print(\"Predictions:\", y_pred_squeezed)\n",
        "print(\"Actual values:\", y_test_np)"
      ],
      "metadata": {
        "colab": {
          "base_uri": "https://localhost:8080/"
        },
        "id": "NW2Y179MRm72",
        "outputId": "80cf8b39-0200-4ff9-e6a0-930099d38f35"
      },
      "execution_count": 45,
      "outputs": [
        {
          "output_type": "stream",
          "name": "stdout",
          "text": [
            "\n",
            "Epoch 1: LearningRateScheduler setting learning rate to 0.0010000000474974513.\n",
            "Epoch 1/30\n",
            "\u001b[1m51/51\u001b[0m \u001b[32m━━━━━━━━━━━━━━━━━━━━\u001b[0m\u001b[37m\u001b[0m \u001b[1m10s\u001b[0m 197ms/step - loss: 843.9603 - mse: 843.9603 - val_loss: 336.6591 - val_mse: 336.6591 - learning_rate: 0.0010\n",
            "\n",
            "Epoch 2: LearningRateScheduler setting learning rate to 0.0010000000474974513.\n",
            "Epoch 2/30\n",
            "\u001b[1m51/51\u001b[0m \u001b[32m━━━━━━━━━━━━━━━━━━━━\u001b[0m\u001b[37m\u001b[0m \u001b[1m9s\u001b[0m 182ms/step - loss: 757.8629 - mse: 757.8629 - val_loss: 315.8224 - val_mse: 315.8224 - learning_rate: 0.0010\n",
            "\n",
            "Epoch 3: LearningRateScheduler setting learning rate to 0.0010000000474974513.\n",
            "Epoch 3/30\n",
            "\u001b[1m51/51\u001b[0m \u001b[32m━━━━━━━━━━━━━━━━━━━━\u001b[0m\u001b[37m\u001b[0m \u001b[1m9s\u001b[0m 184ms/step - loss: 522.6083 - mse: 522.6083 - val_loss: 271.5943 - val_mse: 271.5943 - learning_rate: 0.0010\n",
            "\n",
            "Epoch 4: LearningRateScheduler setting learning rate to 0.0010000000474974513.\n",
            "Epoch 4/30\n",
            "\u001b[1m51/51\u001b[0m \u001b[32m━━━━━━━━━━━━━━━━━━━━\u001b[0m\u001b[37m\u001b[0m \u001b[1m10s\u001b[0m 171ms/step - loss: 393.2434 - mse: 393.2434 - val_loss: 211.3822 - val_mse: 211.3822 - learning_rate: 0.0010\n",
            "\n",
            "Epoch 5: LearningRateScheduler setting learning rate to 0.0010000000474974513.\n",
            "Epoch 5/30\n",
            "\u001b[1m51/51\u001b[0m \u001b[32m━━━━━━━━━━━━━━━━━━━━\u001b[0m\u001b[37m\u001b[0m \u001b[1m10s\u001b[0m 196ms/step - loss: 347.6837 - mse: 347.6837 - val_loss: 176.6371 - val_mse: 176.6371 - learning_rate: 0.0010\n",
            "\n",
            "Epoch 6: LearningRateScheduler setting learning rate to 0.0010000000474974513.\n",
            "Epoch 6/30\n",
            "\u001b[1m51/51\u001b[0m \u001b[32m━━━━━━━━━━━━━━━━━━━━\u001b[0m\u001b[37m\u001b[0m \u001b[1m9s\u001b[0m 185ms/step - loss: 328.3765 - mse: 328.3765 - val_loss: 151.3179 - val_mse: 151.3179 - learning_rate: 0.0010\n",
            "\n",
            "Epoch 7: LearningRateScheduler setting learning rate to 0.0010000000474974513.\n",
            "Epoch 7/30\n",
            "\u001b[1m51/51\u001b[0m \u001b[32m━━━━━━━━━━━━━━━━━━━━\u001b[0m\u001b[37m\u001b[0m \u001b[1m10s\u001b[0m 184ms/step - loss: 344.7209 - mse: 344.7209 - val_loss: 130.0344 - val_mse: 130.0344 - learning_rate: 0.0010\n",
            "\n",
            "Epoch 8: LearningRateScheduler setting learning rate to 0.0010000000474974513.\n",
            "Epoch 8/30\n",
            "\u001b[1m51/51\u001b[0m \u001b[32m━━━━━━━━━━━━━━━━━━━━\u001b[0m\u001b[37m\u001b[0m \u001b[1m8s\u001b[0m 161ms/step - loss: 290.4133 - mse: 290.4133 - val_loss: 120.6483 - val_mse: 120.6483 - learning_rate: 0.0010\n",
            "\n",
            "Epoch 9: LearningRateScheduler setting learning rate to 0.0010000000474974513.\n",
            "Epoch 9/30\n",
            "\u001b[1m51/51\u001b[0m \u001b[32m━━━━━━━━━━━━━━━━━━━━\u001b[0m\u001b[37m\u001b[0m \u001b[1m9s\u001b[0m 186ms/step - loss: 362.4999 - mse: 362.4999 - val_loss: 114.4519 - val_mse: 114.4519 - learning_rate: 0.0010\n",
            "\n",
            "Epoch 10: LearningRateScheduler setting learning rate to 0.0010000000474974513.\n",
            "Epoch 10/30\n",
            "\u001b[1m51/51\u001b[0m \u001b[32m━━━━━━━━━━━━━━━━━━━━\u001b[0m\u001b[37m\u001b[0m \u001b[1m10s\u001b[0m 187ms/step - loss: 337.7495 - mse: 337.7495 - val_loss: 100.3797 - val_mse: 100.3797 - learning_rate: 0.0010\n",
            "\n",
            "Epoch 11: LearningRateScheduler setting learning rate to 0.00010000000474974513.\n",
            "Epoch 11/30\n",
            "\u001b[1m51/51\u001b[0m \u001b[32m━━━━━━━━━━━━━━━━━━━━\u001b[0m\u001b[37m\u001b[0m \u001b[1m9s\u001b[0m 165ms/step - loss: 298.7992 - mse: 298.7992 - val_loss: 100.5909 - val_mse: 100.5909 - learning_rate: 1.0000e-04\n",
            "\n",
            "Epoch 12: LearningRateScheduler setting learning rate to 0.00010000000474974513.\n",
            "Epoch 12/30\n",
            "\u001b[1m51/51\u001b[0m \u001b[32m━━━━━━━━━━━━━━━━━━━━\u001b[0m\u001b[37m\u001b[0m \u001b[1m11s\u001b[0m 179ms/step - loss: 340.8839 - mse: 340.8839 - val_loss: 98.8672 - val_mse: 98.8672 - learning_rate: 1.0000e-04\n",
            "\n",
            "Epoch 13: LearningRateScheduler setting learning rate to 0.00010000000474974513.\n",
            "Epoch 13/30\n",
            "\u001b[1m51/51\u001b[0m \u001b[32m━━━━━━━━━━━━━━━━━━━━\u001b[0m\u001b[37m\u001b[0m \u001b[1m10s\u001b[0m 181ms/step - loss: 296.7746 - mse: 296.7746 - val_loss: 97.0466 - val_mse: 97.0466 - learning_rate: 1.0000e-04\n",
            "\n",
            "Epoch 14: LearningRateScheduler setting learning rate to 0.00010000000474974513.\n",
            "Epoch 14/30\n",
            "\u001b[1m51/51\u001b[0m \u001b[32m━━━━━━━━━━━━━━━━━━━━\u001b[0m\u001b[37m\u001b[0m \u001b[1m10s\u001b[0m 187ms/step - loss: 294.0834 - mse: 294.0834 - val_loss: 95.3546 - val_mse: 95.3546 - learning_rate: 1.0000e-04\n",
            "\n",
            "Epoch 15: LearningRateScheduler setting learning rate to 0.00010000000474974513.\n",
            "Epoch 15/30\n",
            "\u001b[1m51/51\u001b[0m \u001b[32m━━━━━━━━━━━━━━━━━━━━\u001b[0m\u001b[37m\u001b[0m \u001b[1m9s\u001b[0m 166ms/step - loss: 319.8973 - mse: 319.8973 - val_loss: 95.3943 - val_mse: 95.3943 - learning_rate: 1.0000e-04\n",
            "\n",
            "Epoch 16: LearningRateScheduler setting learning rate to 0.00010000000474974513.\n",
            "Epoch 16/30\n",
            "\u001b[1m51/51\u001b[0m \u001b[32m━━━━━━━━━━━━━━━━━━━━\u001b[0m\u001b[37m\u001b[0m \u001b[1m10s\u001b[0m 161ms/step - loss: 250.6571 - mse: 250.6571 - val_loss: 95.4595 - val_mse: 95.4595 - learning_rate: 1.0000e-04\n",
            "\n",
            "Epoch 17: LearningRateScheduler setting learning rate to 0.00010000000474974513.\n",
            "Epoch 17/30\n",
            "\u001b[1m51/51\u001b[0m \u001b[32m━━━━━━━━━━━━━━━━━━━━\u001b[0m\u001b[37m\u001b[0m \u001b[1m11s\u001b[0m 180ms/step - loss: 340.5523 - mse: 340.5523 - val_loss: 95.8452 - val_mse: 95.8452 - learning_rate: 1.0000e-04\n",
            "\n",
            "Epoch 18: LearningRateScheduler setting learning rate to 0.00010000000474974513.\n",
            "Epoch 18/30\n",
            "\u001b[1m51/51\u001b[0m \u001b[32m━━━━━━━━━━━━━━━━━━━━\u001b[0m\u001b[37m\u001b[0m \u001b[1m10s\u001b[0m 188ms/step - loss: 327.2063 - mse: 327.2063 - val_loss: 96.2576 - val_mse: 96.2576 - learning_rate: 1.0000e-04\n",
            "\n",
            "Epoch 19: LearningRateScheduler setting learning rate to 0.00010000000474974513.\n",
            "Epoch 19/30\n",
            "\u001b[1m51/51\u001b[0m \u001b[32m━━━━━━━━━━━━━━━━━━━━\u001b[0m\u001b[37m\u001b[0m \u001b[1m9s\u001b[0m 167ms/step - loss: 379.8662 - mse: 379.8662 - val_loss: 96.1668 - val_mse: 96.1668 - learning_rate: 1.0000e-04\n",
            "\n",
            "Epoch 20: LearningRateScheduler setting learning rate to 0.00010000000474974513.\n",
            "Epoch 20/30\n",
            "\u001b[1m51/51\u001b[0m \u001b[32m━━━━━━━━━━━━━━━━━━━━\u001b[0m\u001b[37m\u001b[0m \u001b[1m9s\u001b[0m 180ms/step - loss: 322.7966 - mse: 322.7966 - val_loss: 96.5322 - val_mse: 96.5322 - learning_rate: 1.0000e-04\n",
            "\n",
            "Epoch 21: LearningRateScheduler setting learning rate to 1.0000000474974514e-05.\n",
            "Epoch 21/30\n",
            "\u001b[1m51/51\u001b[0m \u001b[32m━━━━━━━━━━━━━━━━━━━━\u001b[0m\u001b[37m\u001b[0m \u001b[1m11s\u001b[0m 188ms/step - loss: 311.0677 - mse: 311.0677 - val_loss: 97.0660 - val_mse: 97.0660 - learning_rate: 1.0000e-05\n",
            "\n",
            "Epoch 22: LearningRateScheduler setting learning rate to 1.0000000656873453e-05.\n",
            "Epoch 22/30\n",
            "\u001b[1m51/51\u001b[0m \u001b[32m━━━━━━━━━━━━━━━━━━━━\u001b[0m\u001b[37m\u001b[0m \u001b[1m9s\u001b[0m 173ms/step - loss: 244.9290 - mse: 244.9290 - val_loss: 96.6385 - val_mse: 96.6385 - learning_rate: 1.0000e-05\n",
            "\n",
            "Epoch 23: LearningRateScheduler setting learning rate to 1.0000000656873453e-05.\n",
            "Epoch 23/30\n",
            "\u001b[1m51/51\u001b[0m \u001b[32m━━━━━━━━━━━━━━━━━━━━\u001b[0m\u001b[37m\u001b[0m \u001b[1m9s\u001b[0m 182ms/step - loss: 273.4430 - mse: 273.4430 - val_loss: 96.6039 - val_mse: 96.6039 - learning_rate: 1.0000e-05\n",
            "\n",
            "Epoch 24: LearningRateScheduler setting learning rate to 1.0000000656873453e-05.\n",
            "Epoch 24/30\n",
            "\u001b[1m51/51\u001b[0m \u001b[32m━━━━━━━━━━━━━━━━━━━━\u001b[0m\u001b[37m\u001b[0m \u001b[1m12s\u001b[0m 213ms/step - loss: 265.1973 - mse: 265.1973 - val_loss: 96.1146 - val_mse: 96.1146 - learning_rate: 1.0000e-05\n",
            "\n",
            "Epoch 25: LearningRateScheduler setting learning rate to 1.0000000656873453e-05.\n",
            "Epoch 25/30\n",
            "\u001b[1m51/51\u001b[0m \u001b[32m━━━━━━━━━━━━━━━━━━━━\u001b[0m\u001b[37m\u001b[0m \u001b[1m18s\u001b[0m 168ms/step - loss: 261.2211 - mse: 261.2211 - val_loss: 95.7341 - val_mse: 95.7341 - learning_rate: 1.0000e-05\n",
            "\n",
            "Epoch 26: LearningRateScheduler setting learning rate to 1.0000000656873453e-05.\n",
            "Epoch 26/30\n",
            "\u001b[1m51/51\u001b[0m \u001b[32m━━━━━━━━━━━━━━━━━━━━\u001b[0m\u001b[37m\u001b[0m \u001b[1m9s\u001b[0m 180ms/step - loss: 288.7141 - mse: 288.7141 - val_loss: 96.0116 - val_mse: 96.0116 - learning_rate: 1.0000e-05\n",
            "\n",
            "Epoch 27: LearningRateScheduler setting learning rate to 1.0000000656873453e-05.\n",
            "Epoch 27/30\n",
            "\u001b[1m51/51\u001b[0m \u001b[32m━━━━━━━━━━━━━━━━━━━━\u001b[0m\u001b[37m\u001b[0m \u001b[1m10s\u001b[0m 185ms/step - loss: 293.0547 - mse: 293.0547 - val_loss: 96.3724 - val_mse: 96.3724 - learning_rate: 1.0000e-05\n",
            "\n",
            "Epoch 28: LearningRateScheduler setting learning rate to 1.0000000656873453e-05.\n",
            "Epoch 28/30\n",
            "\u001b[1m51/51\u001b[0m \u001b[32m━━━━━━━━━━━━━━━━━━━━\u001b[0m\u001b[37m\u001b[0m \u001b[1m10s\u001b[0m 184ms/step - loss: 336.8723 - mse: 336.8723 - val_loss: 97.2037 - val_mse: 97.2037 - learning_rate: 1.0000e-05\n",
            "\n",
            "Epoch 29: LearningRateScheduler setting learning rate to 1.0000000656873453e-05.\n",
            "Epoch 29/30\n",
            "\u001b[1m51/51\u001b[0m \u001b[32m━━━━━━━━━━━━━━━━━━━━\u001b[0m\u001b[37m\u001b[0m \u001b[1m9s\u001b[0m 163ms/step - loss: 253.9001 - mse: 253.9001 - val_loss: 94.4226 - val_mse: 94.4226 - learning_rate: 1.0000e-05\n",
            "\n",
            "Epoch 30: LearningRateScheduler setting learning rate to 1.0000000656873453e-05.\n",
            "Epoch 30/30\n",
            "\u001b[1m51/51\u001b[0m \u001b[32m━━━━━━━━━━━━━━━━━━━━\u001b[0m\u001b[37m\u001b[0m \u001b[1m9s\u001b[0m 183ms/step - loss: 312.1891 - mse: 312.1891 - val_loss: 94.7764 - val_mse: 94.7764 - learning_rate: 1.0000e-05\n",
            "\u001b[1m5/5\u001b[0m \u001b[32m━━━━━━━━━━━━━━━━━━━━\u001b[0m\u001b[37m\u001b[0m \u001b[1m0s\u001b[0m 50ms/step - loss: 634.0168 - mse: 634.0168\n",
            "Test MSE: [749.8976440429688, 749.8976440429688]\n",
            "\u001b[1m5/5\u001b[0m \u001b[32m━━━━━━━━━━━━━━━━━━━━\u001b[0m\u001b[37m\u001b[0m \u001b[1m0s\u001b[0m 36ms/step\n",
            "Predictions: [24.350367   9.392078  16.692814  24.308304   8.491076  21.801954\n",
            " 11.562327  20.158237  28.280315  10.129057   9.377969   9.1496105\n",
            " 11.889546  14.682365   9.042673  17.846573  10.234691   9.926961\n",
            " 10.393149  22.763538   8.449936   9.848552   8.327441  18.250856\n",
            " 25.198864  13.763228   8.470651  13.169169  22.28709   16.837536\n",
            " 10.828617  10.820699  13.658393   8.705783  15.727913   9.744056\n",
            " 18.013472  23.023396  11.372315  11.398025  11.427876   8.448691\n",
            " 12.314521   8.665375   9.082824   8.914     13.000233  10.296404\n",
            " 23.915377  19.479061  17.723883  18.556616  10.219959   9.004285\n",
            "  8.701848  23.163502  16.32559    8.731862  16.249002  15.687987\n",
            "  8.593793  11.945546  16.06288    9.334895  11.110603   8.793288\n",
            " 15.62852    8.456361   8.8720255 17.93672    8.446042   9.385646\n",
            "  9.267151  18.609694   9.26464    8.460737   8.795697   9.142351\n",
            " 10.04094    9.320049   9.427973  14.635195   9.183631  10.575465\n",
            " 21.714993  15.886308   8.65709   12.886965  10.416185   8.603942\n",
            "  8.337725  14.776116  14.73347   21.479149  15.584458  10.330676\n",
            " 12.901639  24.771263  15.244132  19.265823  16.241478   9.221166\n",
            " 16.093529   9.430871   8.867652  15.018462  22.960876  10.542332\n",
            " 11.841459  13.543374  26.069958   8.371919  10.08313   17.399681\n",
            "  8.905806   8.7165785 26.716433  26.713276   9.060157   9.404572\n",
            " 16.300177  23.282413  16.20534   17.776562   8.959792   9.997045\n",
            "  8.862933   9.591362  15.769736  15.558589  13.504973  11.93426\n",
            "  9.104695   8.952034   9.5368185  8.113843  10.159869   8.971164\n",
            "  9.877741   9.155125  21.837517   9.665766  27.111958   9.7757\n",
            "  8.534575  10.700724   9.684096  13.295808  26.175226  22.164894\n",
            " 23.424833 ]\n",
            "Actual values: [ 12.  15.  37.  40.  14.  14.   5.   5.  20.  14.  28.   3.   3.   9.\n",
            " 100.  17.  20.  20.  20.  50.   7.   8.  10.   4.  25.  20.   4.   5.\n",
            " 100.  33.  11.  11.  15.  29.  24.  10.  20. 100.  15.  13.   9.  38.\n",
            "  28.  25.  10.   4.   5.  10.  60.  35.  12.   3.   5.  17.  13.  20.\n",
            "  17.  13.  11.  20.   9.  90.  30.  19.   1.  31.  20.  10.   9.   6.\n",
            "   7.   2.  30. 100.   3.  10.   6.   3.   3.  10.   7.   5.   6.   5.\n",
            "  10.  17.  10.   8.  30.   8.   5.  40.   5.  60. 100.  10.   7.  13.\n",
            "  13.   2.   7. 100. 100.  25.  16.   5.  15.  20. 100.   2.  35.  32.\n",
            "  15.   3.  10.   5.  20.  25.  11.   8.  20.  25. 100.  15.   3.  49.\n",
            "  20.  33. 100.  13.  40.   8.  20.  25. 100.   6.  25.   7.  10.  20.\n",
            " 100.  23.  77.  23.   5.  10.   3.  35.  17.   4.  17.]\n"
          ]
        }
      ]
    }
  ],
  "metadata": {
    "kernelspec": {
      "display_name": "Python 3",
      "language": "python",
      "name": "python3"
    },
    "language_info": {
      "codemirror_mode": {
        "name": "ipython",
        "version": 3
      },
      "file_extension": ".py",
      "mimetype": "text/x-python",
      "name": "python",
      "nbconvert_exporter": "python",
      "pygments_lexer": "ipython3",
      "version": "3.11.0"
    },
    "colab": {
      "provenance": []
    }
  },
  "nbformat": 4,
  "nbformat_minor": 0
}
